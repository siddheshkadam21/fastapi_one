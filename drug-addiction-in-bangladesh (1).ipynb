{
 "cells": [
  {
   "cell_type": "code",
   "execution_count": 98,
   "metadata": {
    "execution": {
     "iopub.execute_input": "2021-07-07T09:03:38.900445Z",
     "iopub.status.busy": "2021-07-07T09:03:38.899905Z",
     "iopub.status.idle": "2021-07-07T09:03:38.908178Z",
     "shell.execute_reply": "2021-07-07T09:03:38.907329Z",
     "shell.execute_reply.started": "2021-07-07T09:03:38.900403Z"
    }
   },
   "outputs": [],
   "source": [
    "import numpy as np \n",
    "import pandas as pd \n",
    "import matplotlib.pyplot as plt\n",
    "import seaborn as sb\n",
    "pd.set_option(\"display.max_columns\",None)"
   ]
  },
  {
   "cell_type": "markdown",
   "metadata": {},
   "source": [
    "## Reading Data"
   ]
  },
  {
   "cell_type": "code",
   "execution_count": 99,
   "metadata": {
    "execution": {
     "iopub.execute_input": "2021-07-07T09:03:38.918768Z",
     "iopub.status.busy": "2021-07-07T09:03:38.918358Z",
     "iopub.status.idle": "2021-07-07T09:03:38.963697Z",
     "shell.execute_reply": "2021-07-07T09:03:38.962729Z",
     "shell.execute_reply.started": "2021-07-07T09:03:38.918731Z"
    }
   },
   "outputs": [
    {
     "data": {
      "text/html": [
       "<div>\n",
       "<style scoped>\n",
       "    .dataframe tbody tr th:only-of-type {\n",
       "        vertical-align: middle;\n",
       "    }\n",
       "\n",
       "    .dataframe tbody tr th {\n",
       "        vertical-align: top;\n",
       "    }\n",
       "\n",
       "    .dataframe thead th {\n",
       "        text-align: right;\n",
       "    }\n",
       "</style>\n",
       "<table border=\"1\" class=\"dataframe\">\n",
       "  <thead>\n",
       "    <tr style=\"text-align: right;\">\n",
       "      <th></th>\n",
       "      <th>Age</th>\n",
       "      <th>Gender</th>\n",
       "      <th>Education</th>\n",
       "      <th>Live_with</th>\n",
       "      <th>Motive_about_drug</th>\n",
       "      <th>Spend_most_time</th>\n",
       "      <th>Failure_in_life</th>\n",
       "      <th>Mental_emotional_problem</th>\n",
       "      <th>Suicidal_thoughts</th>\n",
       "      <th>Family_relationship</th>\n",
       "      <th>Financials_of_family</th>\n",
       "      <th>Addicted_person_in_family</th>\n",
       "      <th>Withdrawal_symptoms</th>\n",
       "      <th>Satisfied_with_workplace</th>\n",
       "      <th>Case_in_court</th>\n",
       "      <th>Living_with_drug_user</th>\n",
       "      <th>Smoking</th>\n",
       "      <th>Ever_taken_drug</th>\n",
       "      <th>Friends_influence</th>\n",
       "      <th>If_chance_given_to_taste_drugs</th>\n",
       "      <th>Easy_to_control_use_of_drug</th>\n",
       "      <th>Class</th>\n",
       "    </tr>\n",
       "  </thead>\n",
       "  <tbody>\n",
       "    <tr>\n",
       "      <th>0</th>\n",
       "      <td>2.0</td>\n",
       "      <td>1.0</td>\n",
       "      <td>4.0</td>\n",
       "      <td>2.0</td>\n",
       "      <td>1.0</td>\n",
       "      <td>3.0</td>\n",
       "      <td>1.0</td>\n",
       "      <td>1.0</td>\n",
       "      <td>1.0</td>\n",
       "      <td>1.0</td>\n",
       "      <td>3.0</td>\n",
       "      <td>2.0</td>\n",
       "      <td>2.0</td>\n",
       "      <td>2.0</td>\n",
       "      <td>2.0</td>\n",
       "      <td>1.0</td>\n",
       "      <td>1.0</td>\n",
       "      <td>1.0</td>\n",
       "      <td>1.0</td>\n",
       "      <td>1.0</td>\n",
       "      <td>1.0</td>\n",
       "      <td>2</td>\n",
       "    </tr>\n",
       "    <tr>\n",
       "      <th>1</th>\n",
       "      <td>2.0</td>\n",
       "      <td>1.0</td>\n",
       "      <td>3.0</td>\n",
       "      <td>1.0</td>\n",
       "      <td>3.0</td>\n",
       "      <td>2.0</td>\n",
       "      <td>1.0</td>\n",
       "      <td>1.0</td>\n",
       "      <td>2.0</td>\n",
       "      <td>1.0</td>\n",
       "      <td>2.0</td>\n",
       "      <td>2.0</td>\n",
       "      <td>1.0</td>\n",
       "      <td>2.0</td>\n",
       "      <td>2.0</td>\n",
       "      <td>2.0</td>\n",
       "      <td>1.0</td>\n",
       "      <td>1.0</td>\n",
       "      <td>1.0</td>\n",
       "      <td>3.0</td>\n",
       "      <td>1.0</td>\n",
       "      <td>3</td>\n",
       "    </tr>\n",
       "    <tr>\n",
       "      <th>2</th>\n",
       "      <td>1.0</td>\n",
       "      <td>1.0</td>\n",
       "      <td>3.0</td>\n",
       "      <td>1.0</td>\n",
       "      <td>1.0</td>\n",
       "      <td>2.0</td>\n",
       "      <td>1.0</td>\n",
       "      <td>1.0</td>\n",
       "      <td>1.0</td>\n",
       "      <td>2.0</td>\n",
       "      <td>2.0</td>\n",
       "      <td>2.0</td>\n",
       "      <td>1.0</td>\n",
       "      <td>2.0</td>\n",
       "      <td>1.0</td>\n",
       "      <td>1.0</td>\n",
       "      <td>1.0</td>\n",
       "      <td>1.0</td>\n",
       "      <td>1.0</td>\n",
       "      <td>1.0</td>\n",
       "      <td>2.0</td>\n",
       "      <td>2</td>\n",
       "    </tr>\n",
       "    <tr>\n",
       "      <th>3</th>\n",
       "      <td>2.0</td>\n",
       "      <td>1.0</td>\n",
       "      <td>4.0</td>\n",
       "      <td>1.0</td>\n",
       "      <td>2.0</td>\n",
       "      <td>2.0</td>\n",
       "      <td>1.0</td>\n",
       "      <td>1.0</td>\n",
       "      <td>2.0</td>\n",
       "      <td>2.0</td>\n",
       "      <td>3.0</td>\n",
       "      <td>2.0</td>\n",
       "      <td>1.0</td>\n",
       "      <td>1.0</td>\n",
       "      <td>2.0</td>\n",
       "      <td>1.0</td>\n",
       "      <td>1.0</td>\n",
       "      <td>1.0</td>\n",
       "      <td>1.0</td>\n",
       "      <td>1.0</td>\n",
       "      <td>1.0</td>\n",
       "      <td>2</td>\n",
       "    </tr>\n",
       "    <tr>\n",
       "      <th>4</th>\n",
       "      <td>2.0</td>\n",
       "      <td>1.0</td>\n",
       "      <td>4.0</td>\n",
       "      <td>1.0</td>\n",
       "      <td>2.0</td>\n",
       "      <td>3.0</td>\n",
       "      <td>2.0</td>\n",
       "      <td>1.0</td>\n",
       "      <td>2.0</td>\n",
       "      <td>1.0</td>\n",
       "      <td>2.0</td>\n",
       "      <td>2.0</td>\n",
       "      <td>1.0</td>\n",
       "      <td>1.0</td>\n",
       "      <td>2.0</td>\n",
       "      <td>2.0</td>\n",
       "      <td>1.0</td>\n",
       "      <td>2.0</td>\n",
       "      <td>2.0</td>\n",
       "      <td>2.0</td>\n",
       "      <td>1.0</td>\n",
       "      <td>4</td>\n",
       "    </tr>\n",
       "  </tbody>\n",
       "</table>\n",
       "</div>"
      ],
      "text/plain": [
       "   Age  Gender  Education  Live_with  Motive_about_drug  Spend_most_time  \\\n",
       "0  2.0     1.0        4.0        2.0                1.0              3.0   \n",
       "1  2.0     1.0        3.0        1.0                3.0              2.0   \n",
       "2  1.0     1.0        3.0        1.0                1.0              2.0   \n",
       "3  2.0     1.0        4.0        1.0                2.0              2.0   \n",
       "4  2.0     1.0        4.0        1.0                2.0              3.0   \n",
       "\n",
       "   Failure_in_life  Mental_emotional_problem  Suicidal_thoughts  \\\n",
       "0              1.0                       1.0                1.0   \n",
       "1              1.0                       1.0                2.0   \n",
       "2              1.0                       1.0                1.0   \n",
       "3              1.0                       1.0                2.0   \n",
       "4              2.0                       1.0                2.0   \n",
       "\n",
       "   Family_relationship  Financials_of_family  Addicted_person_in_family  \\\n",
       "0                  1.0                   3.0                        2.0   \n",
       "1                  1.0                   2.0                        2.0   \n",
       "2                  2.0                   2.0                        2.0   \n",
       "3                  2.0                   3.0                        2.0   \n",
       "4                  1.0                   2.0                        2.0   \n",
       "\n",
       "   Withdrawal_symptoms  Satisfied_with_workplace  Case_in_court  \\\n",
       "0                  2.0                       2.0            2.0   \n",
       "1                  1.0                       2.0            2.0   \n",
       "2                  1.0                       2.0            1.0   \n",
       "3                  1.0                       1.0            2.0   \n",
       "4                  1.0                       1.0            2.0   \n",
       "\n",
       "   Living_with_drug_user  Smoking  Ever_taken_drug  Friends_influence  \\\n",
       "0                    1.0      1.0              1.0                1.0   \n",
       "1                    2.0      1.0              1.0                1.0   \n",
       "2                    1.0      1.0              1.0                1.0   \n",
       "3                    1.0      1.0              1.0                1.0   \n",
       "4                    2.0      1.0              2.0                2.0   \n",
       "\n",
       "   If_chance_given_to_taste_drugs  Easy_to_control_use_of_drug  Class  \n",
       "0                             1.0                          1.0      2  \n",
       "1                             3.0                          1.0      3  \n",
       "2                             1.0                          2.0      2  \n",
       "3                             1.0                          1.0      2  \n",
       "4                             2.0                          1.0      4  "
      ]
     },
     "execution_count": 99,
     "metadata": {},
     "output_type": "execute_result"
    }
   ],
   "source": [
    "df=pd.read_csv(\"DrugAddictioninBangladesh_Smoted.csv\")\n",
    "df.head()"
   ]
  },
  {
   "cell_type": "code",
   "execution_count": 100,
   "metadata": {
    "execution": {
     "iopub.execute_input": "2021-07-07T09:03:38.965528Z",
     "iopub.status.busy": "2021-07-07T09:03:38.965201Z",
     "iopub.status.idle": "2021-07-07T09:03:38.998619Z",
     "shell.execute_reply": "2021-07-07T09:03:38.997406Z",
     "shell.execute_reply.started": "2021-07-07T09:03:38.965499Z"
    }
   },
   "outputs": [
    {
     "data": {
      "text/html": [
       "<div>\n",
       "<style scoped>\n",
       "    .dataframe tbody tr th:only-of-type {\n",
       "        vertical-align: middle;\n",
       "    }\n",
       "\n",
       "    .dataframe tbody tr th {\n",
       "        vertical-align: top;\n",
       "    }\n",
       "\n",
       "    .dataframe thead th {\n",
       "        text-align: right;\n",
       "    }\n",
       "</style>\n",
       "<table border=\"1\" class=\"dataframe\">\n",
       "  <thead>\n",
       "    <tr style=\"text-align: right;\">\n",
       "      <th></th>\n",
       "      <th>Age</th>\n",
       "      <th>Gender</th>\n",
       "      <th>Education</th>\n",
       "      <th>Live_with</th>\n",
       "      <th>Motive_about_drug</th>\n",
       "      <th>Spend_most_time</th>\n",
       "      <th>Failure_in_life</th>\n",
       "      <th>Mental_emotional_problem</th>\n",
       "      <th>Suicidal_thoughts</th>\n",
       "      <th>Family_relationship</th>\n",
       "      <th>Financials_of_family</th>\n",
       "      <th>Addicted_person_in_family</th>\n",
       "      <th>Withdrawal_symptoms</th>\n",
       "      <th>Satisfied_with_workplace</th>\n",
       "      <th>Case_in_court</th>\n",
       "      <th>Living_with_drug_user</th>\n",
       "      <th>Smoking</th>\n",
       "      <th>Ever_taken_drug</th>\n",
       "      <th>Friends_influence</th>\n",
       "      <th>If_chance_given_to_taste_drugs</th>\n",
       "      <th>Easy_to_control_use_of_drug</th>\n",
       "      <th>Class</th>\n",
       "    </tr>\n",
       "  </thead>\n",
       "  <tbody>\n",
       "    <tr>\n",
       "      <th>435</th>\n",
       "      <td>2.000000</td>\n",
       "      <td>1.000000</td>\n",
       "      <td>4.0</td>\n",
       "      <td>2.000000</td>\n",
       "      <td>2.00000</td>\n",
       "      <td>2.0</td>\n",
       "      <td>2.0</td>\n",
       "      <td>4.934642</td>\n",
       "      <td>2.000000</td>\n",
       "      <td>1.00000</td>\n",
       "      <td>2.0</td>\n",
       "      <td>2.000000</td>\n",
       "      <td>1.967321</td>\n",
       "      <td>1.00000</td>\n",
       "      <td>2.0</td>\n",
       "      <td>1.032679</td>\n",
       "      <td>1.000000</td>\n",
       "      <td>1.000000</td>\n",
       "      <td>1.967321</td>\n",
       "      <td>1.0</td>\n",
       "      <td>1.000000</td>\n",
       "      <td>3</td>\n",
       "    </tr>\n",
       "    <tr>\n",
       "      <th>436</th>\n",
       "      <td>1.000000</td>\n",
       "      <td>1.400013</td>\n",
       "      <td>3.0</td>\n",
       "      <td>1.400013</td>\n",
       "      <td>2.00000</td>\n",
       "      <td>2.0</td>\n",
       "      <td>2.0</td>\n",
       "      <td>1.000000</td>\n",
       "      <td>1.400013</td>\n",
       "      <td>2.00000</td>\n",
       "      <td>2.0</td>\n",
       "      <td>1.599987</td>\n",
       "      <td>1.599987</td>\n",
       "      <td>1.00000</td>\n",
       "      <td>2.0</td>\n",
       "      <td>1.000000</td>\n",
       "      <td>1.400013</td>\n",
       "      <td>1.000000</td>\n",
       "      <td>1.000000</td>\n",
       "      <td>1.0</td>\n",
       "      <td>1.400013</td>\n",
       "      <td>3</td>\n",
       "    </tr>\n",
       "    <tr>\n",
       "      <th>437</th>\n",
       "      <td>2.969459</td>\n",
       "      <td>2.000000</td>\n",
       "      <td>4.0</td>\n",
       "      <td>1.000000</td>\n",
       "      <td>2.00000</td>\n",
       "      <td>2.0</td>\n",
       "      <td>1.0</td>\n",
       "      <td>2.000000</td>\n",
       "      <td>1.969459</td>\n",
       "      <td>2.00000</td>\n",
       "      <td>3.0</td>\n",
       "      <td>1.000000</td>\n",
       "      <td>1.969459</td>\n",
       "      <td>1.00000</td>\n",
       "      <td>1.0</td>\n",
       "      <td>1.000000</td>\n",
       "      <td>2.000000</td>\n",
       "      <td>1.969459</td>\n",
       "      <td>1.000000</td>\n",
       "      <td>2.0</td>\n",
       "      <td>1.000000</td>\n",
       "      <td>3</td>\n",
       "    </tr>\n",
       "    <tr>\n",
       "      <th>438</th>\n",
       "      <td>2.140395</td>\n",
       "      <td>2.000000</td>\n",
       "      <td>4.0</td>\n",
       "      <td>1.000000</td>\n",
       "      <td>2.00000</td>\n",
       "      <td>2.0</td>\n",
       "      <td>1.0</td>\n",
       "      <td>2.000000</td>\n",
       "      <td>1.140395</td>\n",
       "      <td>2.00000</td>\n",
       "      <td>3.0</td>\n",
       "      <td>1.000000</td>\n",
       "      <td>1.140395</td>\n",
       "      <td>1.00000</td>\n",
       "      <td>1.0</td>\n",
       "      <td>1.000000</td>\n",
       "      <td>2.000000</td>\n",
       "      <td>1.140395</td>\n",
       "      <td>1.000000</td>\n",
       "      <td>2.0</td>\n",
       "      <td>1.000000</td>\n",
       "      <td>3</td>\n",
       "    </tr>\n",
       "    <tr>\n",
       "      <th>439</th>\n",
       "      <td>1.439780</td>\n",
       "      <td>1.000000</td>\n",
       "      <td>4.0</td>\n",
       "      <td>1.439780</td>\n",
       "      <td>2.43978</td>\n",
       "      <td>2.0</td>\n",
       "      <td>2.0</td>\n",
       "      <td>1.000000</td>\n",
       "      <td>1.000000</td>\n",
       "      <td>1.56022</td>\n",
       "      <td>3.0</td>\n",
       "      <td>2.560220</td>\n",
       "      <td>1.000000</td>\n",
       "      <td>1.56022</td>\n",
       "      <td>2.0</td>\n",
       "      <td>1.000000</td>\n",
       "      <td>1.000000</td>\n",
       "      <td>1.000000</td>\n",
       "      <td>2.000000</td>\n",
       "      <td>1.0</td>\n",
       "      <td>1.000000</td>\n",
       "      <td>3</td>\n",
       "    </tr>\n",
       "  </tbody>\n",
       "</table>\n",
       "</div>"
      ],
      "text/plain": [
       "          Age    Gender  Education  Live_with  Motive_about_drug  \\\n",
       "435  2.000000  1.000000        4.0   2.000000            2.00000   \n",
       "436  1.000000  1.400013        3.0   1.400013            2.00000   \n",
       "437  2.969459  2.000000        4.0   1.000000            2.00000   \n",
       "438  2.140395  2.000000        4.0   1.000000            2.00000   \n",
       "439  1.439780  1.000000        4.0   1.439780            2.43978   \n",
       "\n",
       "     Spend_most_time  Failure_in_life  Mental_emotional_problem  \\\n",
       "435              2.0              2.0                  4.934642   \n",
       "436              2.0              2.0                  1.000000   \n",
       "437              2.0              1.0                  2.000000   \n",
       "438              2.0              1.0                  2.000000   \n",
       "439              2.0              2.0                  1.000000   \n",
       "\n",
       "     Suicidal_thoughts  Family_relationship  Financials_of_family  \\\n",
       "435           2.000000              1.00000                   2.0   \n",
       "436           1.400013              2.00000                   2.0   \n",
       "437           1.969459              2.00000                   3.0   \n",
       "438           1.140395              2.00000                   3.0   \n",
       "439           1.000000              1.56022                   3.0   \n",
       "\n",
       "     Addicted_person_in_family  Withdrawal_symptoms  Satisfied_with_workplace  \\\n",
       "435                   2.000000             1.967321                   1.00000   \n",
       "436                   1.599987             1.599987                   1.00000   \n",
       "437                   1.000000             1.969459                   1.00000   \n",
       "438                   1.000000             1.140395                   1.00000   \n",
       "439                   2.560220             1.000000                   1.56022   \n",
       "\n",
       "     Case_in_court  Living_with_drug_user   Smoking  Ever_taken_drug  \\\n",
       "435            2.0               1.032679  1.000000         1.000000   \n",
       "436            2.0               1.000000  1.400013         1.000000   \n",
       "437            1.0               1.000000  2.000000         1.969459   \n",
       "438            1.0               1.000000  2.000000         1.140395   \n",
       "439            2.0               1.000000  1.000000         1.000000   \n",
       "\n",
       "     Friends_influence  If_chance_given_to_taste_drugs  \\\n",
       "435           1.967321                             1.0   \n",
       "436           1.000000                             1.0   \n",
       "437           1.000000                             2.0   \n",
       "438           1.000000                             2.0   \n",
       "439           2.000000                             1.0   \n",
       "\n",
       "     Easy_to_control_use_of_drug  Class  \n",
       "435                     1.000000      3  \n",
       "436                     1.400013      3  \n",
       "437                     1.000000      3  \n",
       "438                     1.000000      3  \n",
       "439                     1.000000      3  "
      ]
     },
     "execution_count": 100,
     "metadata": {},
     "output_type": "execute_result"
    }
   ],
   "source": [
    "df.tail()"
   ]
  },
  {
   "cell_type": "markdown",
   "metadata": {},
   "source": [
    "## Size of data"
   ]
  },
  {
   "cell_type": "code",
   "execution_count": 101,
   "metadata": {
    "execution": {
     "iopub.execute_input": "2021-07-07T09:03:39.001489Z",
     "iopub.status.busy": "2021-07-07T09:03:39.001060Z",
     "iopub.status.idle": "2021-07-07T09:03:39.006908Z",
     "shell.execute_reply": "2021-07-07T09:03:39.006167Z",
     "shell.execute_reply.started": "2021-07-07T09:03:39.001444Z"
    }
   },
   "outputs": [
    {
     "data": {
      "text/plain": [
       "(440, 22)"
      ]
     },
     "execution_count": 101,
     "metadata": {},
     "output_type": "execute_result"
    }
   ],
   "source": [
    "df.shape"
   ]
  },
  {
   "cell_type": "markdown",
   "metadata": {},
   "source": [
    "## Info about data"
   ]
  },
  {
   "cell_type": "code",
   "execution_count": 102,
   "metadata": {
    "execution": {
     "iopub.execute_input": "2021-07-07T09:03:39.008729Z",
     "iopub.status.busy": "2021-07-07T09:03:39.008302Z",
     "iopub.status.idle": "2021-07-07T09:03:39.031654Z",
     "shell.execute_reply": "2021-07-07T09:03:39.030581Z",
     "shell.execute_reply.started": "2021-07-07T09:03:39.008688Z"
    }
   },
   "outputs": [
    {
     "name": "stdout",
     "output_type": "stream",
     "text": [
      "<class 'pandas.core.frame.DataFrame'>\n",
      "RangeIndex: 440 entries, 0 to 439\n",
      "Data columns (total 22 columns):\n",
      " #   Column                          Non-Null Count  Dtype  \n",
      "---  ------                          --------------  -----  \n",
      " 0   Age                             440 non-null    float64\n",
      " 1   Gender                          440 non-null    float64\n",
      " 2   Education                       440 non-null    float64\n",
      " 3   Live_with                       440 non-null    float64\n",
      " 4   Motive_about_drug               440 non-null    float64\n",
      " 5   Spend_most_time                 440 non-null    float64\n",
      " 6   Failure_in_life                 440 non-null    float64\n",
      " 7   Mental_emotional_problem        440 non-null    float64\n",
      " 8   Suicidal_thoughts               440 non-null    float64\n",
      " 9   Family_relationship             440 non-null    float64\n",
      " 10  Financials_of_family            440 non-null    float64\n",
      " 11  Addicted_person_in_family       440 non-null    float64\n",
      " 12  Withdrawal_symptoms             440 non-null    float64\n",
      " 13  Satisfied_with_workplace        440 non-null    float64\n",
      " 14  Case_in_court                   440 non-null    float64\n",
      " 15  Living_with_drug_user           440 non-null    float64\n",
      " 16  Smoking                         440 non-null    float64\n",
      " 17  Ever_taken_drug                 440 non-null    float64\n",
      " 18  Friends_influence               440 non-null    float64\n",
      " 19  If_chance_given_to_taste_drugs  440 non-null    float64\n",
      " 20  Easy_to_control_use_of_drug     440 non-null    float64\n",
      " 21  Class                           440 non-null    int64  \n",
      "dtypes: float64(21), int64(1)\n",
      "memory usage: 75.8 KB\n"
     ]
    }
   ],
   "source": [
    "df.info()"
   ]
  },
  {
   "cell_type": "markdown",
   "metadata": {},
   "source": [
    "## Conversion\n",
    "- Converting all columns to int."
   ]
  },
  {
   "cell_type": "code",
   "execution_count": 103,
   "metadata": {
    "execution": {
     "iopub.execute_input": "2021-07-07T09:03:39.033281Z",
     "iopub.status.busy": "2021-07-07T09:03:39.032999Z",
     "iopub.status.idle": "2021-07-07T09:03:39.052779Z",
     "shell.execute_reply": "2021-07-07T09:03:39.051571Z",
     "shell.execute_reply.started": "2021-07-07T09:03:39.033252Z"
    }
   },
   "outputs": [],
   "source": [
    "col=df.columns\n",
    "for i in col:\n",
    "    df[i]=(df[i].values).astype(int)"
   ]
  },
  {
   "cell_type": "markdown",
   "metadata": {},
   "source": [
    "## Unique values"
   ]
  },
  {
   "cell_type": "code",
   "execution_count": 104,
   "metadata": {
    "execution": {
     "iopub.execute_input": "2021-07-07T09:03:39.054485Z",
     "iopub.status.busy": "2021-07-07T09:03:39.054118Z",
     "iopub.status.idle": "2021-07-07T09:03:39.078334Z",
     "shell.execute_reply": "2021-07-07T09:03:39.077249Z",
     "shell.execute_reply.started": "2021-07-07T09:03:39.054451Z"
    }
   },
   "outputs": [
    {
     "name": "stdout",
     "output_type": "stream",
     "text": [
      "Age [2 1 3 4]\n",
      "Gender [1 2]\n",
      "Education [4 3 5 1 2]\n",
      "Live_with [2 1]\n",
      "Motive_about_drug [1 3 2]\n",
      "Spend_most_time [3 2 1]\n",
      "Failure_in_life [1 2]\n",
      "Mental_emotional_problem [1 2 3 5 4]\n",
      "Suicidal_thoughts [1 2]\n",
      "Family_relationship [1 2 3]\n",
      "Financials_of_family [3 2 4 1]\n",
      "Addicted_person_in_family [2 3 1]\n",
      "Withdrawal_symptoms [2 1]\n",
      "Satisfied_with_workplace [2 1]\n",
      "Case_in_court [2 1]\n",
      "Living_with_drug_user [1 2 3]\n",
      "Smoking [1 2 3]\n",
      "Ever_taken_drug [1 2]\n",
      "Friends_influence [1 2]\n",
      "If_chance_given_to_taste_drugs [1 3 2]\n",
      "Easy_to_control_use_of_drug [1 2]\n",
      "Class [2 3 4 1]\n"
     ]
    }
   ],
   "source": [
    "for i in col:\n",
    "    print(i,df[i].unique())"
   ]
  },
  {
   "cell_type": "markdown",
   "metadata": {},
   "source": [
    "## Count of target variables\n",
    "- multi class"
   ]
  },
  {
   "cell_type": "code",
   "execution_count": 105,
   "metadata": {
    "execution": {
     "iopub.execute_input": "2021-07-07T09:03:39.079793Z",
     "iopub.status.busy": "2021-07-07T09:03:39.079499Z",
     "iopub.status.idle": "2021-07-07T09:03:39.090449Z",
     "shell.execute_reply": "2021-07-07T09:03:39.089192Z",
     "shell.execute_reply.started": "2021-07-07T09:03:39.079765Z"
    }
   },
   "outputs": [
    {
     "data": {
      "text/plain": [
       "Class\n",
       "1    110\n",
       "2    110\n",
       "3    110\n",
       "4    110\n",
       "dtype: int64"
      ]
     },
     "execution_count": 105,
     "metadata": {},
     "output_type": "execute_result"
    }
   ],
   "source": [
    "\n",
    "df.groupby(df[\"Class\"]).size()"
   ]
  },
  {
   "cell_type": "markdown",
   "metadata": {},
   "source": [
    "## Descriptive Values"
   ]
  },
  {
   "cell_type": "code",
   "execution_count": 106,
   "metadata": {
    "execution": {
     "iopub.execute_input": "2021-07-07T09:03:39.093481Z",
     "iopub.status.busy": "2021-07-07T09:03:39.093002Z",
     "iopub.status.idle": "2021-07-07T09:03:39.179048Z",
     "shell.execute_reply": "2021-07-07T09:03:39.178054Z",
     "shell.execute_reply.started": "2021-07-07T09:03:39.093440Z"
    }
   },
   "outputs": [
    {
     "data": {
      "text/html": [
       "<div>\n",
       "<style scoped>\n",
       "    .dataframe tbody tr th:only-of-type {\n",
       "        vertical-align: middle;\n",
       "    }\n",
       "\n",
       "    .dataframe tbody tr th {\n",
       "        vertical-align: top;\n",
       "    }\n",
       "\n",
       "    .dataframe thead th {\n",
       "        text-align: right;\n",
       "    }\n",
       "</style>\n",
       "<table border=\"1\" class=\"dataframe\">\n",
       "  <thead>\n",
       "    <tr style=\"text-align: right;\">\n",
       "      <th></th>\n",
       "      <th>Age</th>\n",
       "      <th>Gender</th>\n",
       "      <th>Education</th>\n",
       "      <th>Live_with</th>\n",
       "      <th>Motive_about_drug</th>\n",
       "      <th>Spend_most_time</th>\n",
       "      <th>Failure_in_life</th>\n",
       "      <th>Mental_emotional_problem</th>\n",
       "      <th>Suicidal_thoughts</th>\n",
       "      <th>Family_relationship</th>\n",
       "      <th>Financials_of_family</th>\n",
       "      <th>Addicted_person_in_family</th>\n",
       "      <th>Withdrawal_symptoms</th>\n",
       "      <th>Satisfied_with_workplace</th>\n",
       "      <th>Case_in_court</th>\n",
       "      <th>Living_with_drug_user</th>\n",
       "      <th>Smoking</th>\n",
       "      <th>Ever_taken_drug</th>\n",
       "      <th>Friends_influence</th>\n",
       "      <th>If_chance_given_to_taste_drugs</th>\n",
       "      <th>Easy_to_control_use_of_drug</th>\n",
       "      <th>Class</th>\n",
       "    </tr>\n",
       "  </thead>\n",
       "  <tbody>\n",
       "    <tr>\n",
       "      <th>count</th>\n",
       "      <td>440.000000</td>\n",
       "      <td>440.000000</td>\n",
       "      <td>440.000000</td>\n",
       "      <td>440.000000</td>\n",
       "      <td>440.000000</td>\n",
       "      <td>440.000000</td>\n",
       "      <td>440.000000</td>\n",
       "      <td>440.000000</td>\n",
       "      <td>440.000000</td>\n",
       "      <td>440.000000</td>\n",
       "      <td>440.000000</td>\n",
       "      <td>440.000000</td>\n",
       "      <td>440.000000</td>\n",
       "      <td>440.000000</td>\n",
       "      <td>440.000000</td>\n",
       "      <td>440.000000</td>\n",
       "      <td>440.000000</td>\n",
       "      <td>440.000000</td>\n",
       "      <td>440.000000</td>\n",
       "      <td>440.000000</td>\n",
       "      <td>440.000000</td>\n",
       "      <td>440.000000</td>\n",
       "    </tr>\n",
       "    <tr>\n",
       "      <th>mean</th>\n",
       "      <td>1.790909</td>\n",
       "      <td>1.220455</td>\n",
       "      <td>3.595455</td>\n",
       "      <td>1.286364</td>\n",
       "      <td>2.159091</td>\n",
       "      <td>1.911364</td>\n",
       "      <td>1.347727</td>\n",
       "      <td>2.025000</td>\n",
       "      <td>1.536364</td>\n",
       "      <td>1.515909</td>\n",
       "      <td>2.400000</td>\n",
       "      <td>1.838636</td>\n",
       "      <td>1.381818</td>\n",
       "      <td>1.327273</td>\n",
       "      <td>1.768182</td>\n",
       "      <td>1.475000</td>\n",
       "      <td>1.522727</td>\n",
       "      <td>1.284091</td>\n",
       "      <td>1.418182</td>\n",
       "      <td>1.584091</td>\n",
       "      <td>1.181818</td>\n",
       "      <td>2.500000</td>\n",
       "    </tr>\n",
       "    <tr>\n",
       "      <th>std</th>\n",
       "      <td>0.605148</td>\n",
       "      <td>0.415025</td>\n",
       "      <td>0.775465</td>\n",
       "      <td>0.452576</td>\n",
       "      <td>0.562422</td>\n",
       "      <td>0.508567</td>\n",
       "      <td>0.476791</td>\n",
       "      <td>1.173672</td>\n",
       "      <td>0.499244</td>\n",
       "      <td>0.618413</td>\n",
       "      <td>0.887268</td>\n",
       "      <td>0.508567</td>\n",
       "      <td>0.486385</td>\n",
       "      <td>0.469752</td>\n",
       "      <td>0.422474</td>\n",
       "      <td>0.551917</td>\n",
       "      <td>0.760309</td>\n",
       "      <td>0.451494</td>\n",
       "      <td>0.493822</td>\n",
       "      <td>0.731474</td>\n",
       "      <td>0.386134</td>\n",
       "      <td>1.119307</td>\n",
       "    </tr>\n",
       "    <tr>\n",
       "      <th>min</th>\n",
       "      <td>1.000000</td>\n",
       "      <td>1.000000</td>\n",
       "      <td>1.000000</td>\n",
       "      <td>1.000000</td>\n",
       "      <td>1.000000</td>\n",
       "      <td>1.000000</td>\n",
       "      <td>1.000000</td>\n",
       "      <td>1.000000</td>\n",
       "      <td>1.000000</td>\n",
       "      <td>1.000000</td>\n",
       "      <td>1.000000</td>\n",
       "      <td>1.000000</td>\n",
       "      <td>1.000000</td>\n",
       "      <td>1.000000</td>\n",
       "      <td>1.000000</td>\n",
       "      <td>1.000000</td>\n",
       "      <td>1.000000</td>\n",
       "      <td>1.000000</td>\n",
       "      <td>1.000000</td>\n",
       "      <td>1.000000</td>\n",
       "      <td>1.000000</td>\n",
       "      <td>1.000000</td>\n",
       "    </tr>\n",
       "    <tr>\n",
       "      <th>25%</th>\n",
       "      <td>1.000000</td>\n",
       "      <td>1.000000</td>\n",
       "      <td>3.000000</td>\n",
       "      <td>1.000000</td>\n",
       "      <td>2.000000</td>\n",
       "      <td>2.000000</td>\n",
       "      <td>1.000000</td>\n",
       "      <td>1.000000</td>\n",
       "      <td>1.000000</td>\n",
       "      <td>1.000000</td>\n",
       "      <td>2.000000</td>\n",
       "      <td>2.000000</td>\n",
       "      <td>1.000000</td>\n",
       "      <td>1.000000</td>\n",
       "      <td>2.000000</td>\n",
       "      <td>1.000000</td>\n",
       "      <td>1.000000</td>\n",
       "      <td>1.000000</td>\n",
       "      <td>1.000000</td>\n",
       "      <td>1.000000</td>\n",
       "      <td>1.000000</td>\n",
       "      <td>1.750000</td>\n",
       "    </tr>\n",
       "    <tr>\n",
       "      <th>50%</th>\n",
       "      <td>2.000000</td>\n",
       "      <td>1.000000</td>\n",
       "      <td>4.000000</td>\n",
       "      <td>1.000000</td>\n",
       "      <td>2.000000</td>\n",
       "      <td>2.000000</td>\n",
       "      <td>1.000000</td>\n",
       "      <td>2.000000</td>\n",
       "      <td>2.000000</td>\n",
       "      <td>1.000000</td>\n",
       "      <td>2.000000</td>\n",
       "      <td>2.000000</td>\n",
       "      <td>1.000000</td>\n",
       "      <td>1.000000</td>\n",
       "      <td>2.000000</td>\n",
       "      <td>1.000000</td>\n",
       "      <td>1.000000</td>\n",
       "      <td>1.000000</td>\n",
       "      <td>1.000000</td>\n",
       "      <td>1.000000</td>\n",
       "      <td>1.000000</td>\n",
       "      <td>2.500000</td>\n",
       "    </tr>\n",
       "    <tr>\n",
       "      <th>75%</th>\n",
       "      <td>2.000000</td>\n",
       "      <td>1.000000</td>\n",
       "      <td>4.000000</td>\n",
       "      <td>2.000000</td>\n",
       "      <td>2.250000</td>\n",
       "      <td>2.000000</td>\n",
       "      <td>2.000000</td>\n",
       "      <td>2.000000</td>\n",
       "      <td>2.000000</td>\n",
       "      <td>2.000000</td>\n",
       "      <td>3.000000</td>\n",
       "      <td>2.000000</td>\n",
       "      <td>2.000000</td>\n",
       "      <td>2.000000</td>\n",
       "      <td>2.000000</td>\n",
       "      <td>2.000000</td>\n",
       "      <td>2.000000</td>\n",
       "      <td>2.000000</td>\n",
       "      <td>2.000000</td>\n",
       "      <td>2.000000</td>\n",
       "      <td>1.000000</td>\n",
       "      <td>3.250000</td>\n",
       "    </tr>\n",
       "    <tr>\n",
       "      <th>max</th>\n",
       "      <td>4.000000</td>\n",
       "      <td>2.000000</td>\n",
       "      <td>5.000000</td>\n",
       "      <td>2.000000</td>\n",
       "      <td>3.000000</td>\n",
       "      <td>3.000000</td>\n",
       "      <td>2.000000</td>\n",
       "      <td>5.000000</td>\n",
       "      <td>2.000000</td>\n",
       "      <td>3.000000</td>\n",
       "      <td>4.000000</td>\n",
       "      <td>3.000000</td>\n",
       "      <td>2.000000</td>\n",
       "      <td>2.000000</td>\n",
       "      <td>2.000000</td>\n",
       "      <td>3.000000</td>\n",
       "      <td>3.000000</td>\n",
       "      <td>2.000000</td>\n",
       "      <td>2.000000</td>\n",
       "      <td>3.000000</td>\n",
       "      <td>2.000000</td>\n",
       "      <td>4.000000</td>\n",
       "    </tr>\n",
       "  </tbody>\n",
       "</table>\n",
       "</div>"
      ],
      "text/plain": [
       "              Age      Gender   Education   Live_with  Motive_about_drug  \\\n",
       "count  440.000000  440.000000  440.000000  440.000000         440.000000   \n",
       "mean     1.790909    1.220455    3.595455    1.286364           2.159091   \n",
       "std      0.605148    0.415025    0.775465    0.452576           0.562422   \n",
       "min      1.000000    1.000000    1.000000    1.000000           1.000000   \n",
       "25%      1.000000    1.000000    3.000000    1.000000           2.000000   \n",
       "50%      2.000000    1.000000    4.000000    1.000000           2.000000   \n",
       "75%      2.000000    1.000000    4.000000    2.000000           2.250000   \n",
       "max      4.000000    2.000000    5.000000    2.000000           3.000000   \n",
       "\n",
       "       Spend_most_time  Failure_in_life  Mental_emotional_problem  \\\n",
       "count       440.000000       440.000000                440.000000   \n",
       "mean          1.911364         1.347727                  2.025000   \n",
       "std           0.508567         0.476791                  1.173672   \n",
       "min           1.000000         1.000000                  1.000000   \n",
       "25%           2.000000         1.000000                  1.000000   \n",
       "50%           2.000000         1.000000                  2.000000   \n",
       "75%           2.000000         2.000000                  2.000000   \n",
       "max           3.000000         2.000000                  5.000000   \n",
       "\n",
       "       Suicidal_thoughts  Family_relationship  Financials_of_family  \\\n",
       "count         440.000000           440.000000            440.000000   \n",
       "mean            1.536364             1.515909              2.400000   \n",
       "std             0.499244             0.618413              0.887268   \n",
       "min             1.000000             1.000000              1.000000   \n",
       "25%             1.000000             1.000000              2.000000   \n",
       "50%             2.000000             1.000000              2.000000   \n",
       "75%             2.000000             2.000000              3.000000   \n",
       "max             2.000000             3.000000              4.000000   \n",
       "\n",
       "       Addicted_person_in_family  Withdrawal_symptoms  \\\n",
       "count                 440.000000           440.000000   \n",
       "mean                    1.838636             1.381818   \n",
       "std                     0.508567             0.486385   \n",
       "min                     1.000000             1.000000   \n",
       "25%                     2.000000             1.000000   \n",
       "50%                     2.000000             1.000000   \n",
       "75%                     2.000000             2.000000   \n",
       "max                     3.000000             2.000000   \n",
       "\n",
       "       Satisfied_with_workplace  Case_in_court  Living_with_drug_user  \\\n",
       "count                440.000000     440.000000             440.000000   \n",
       "mean                   1.327273       1.768182               1.475000   \n",
       "std                    0.469752       0.422474               0.551917   \n",
       "min                    1.000000       1.000000               1.000000   \n",
       "25%                    1.000000       2.000000               1.000000   \n",
       "50%                    1.000000       2.000000               1.000000   \n",
       "75%                    2.000000       2.000000               2.000000   \n",
       "max                    2.000000       2.000000               3.000000   \n",
       "\n",
       "          Smoking  Ever_taken_drug  Friends_influence  \\\n",
       "count  440.000000       440.000000         440.000000   \n",
       "mean     1.522727         1.284091           1.418182   \n",
       "std      0.760309         0.451494           0.493822   \n",
       "min      1.000000         1.000000           1.000000   \n",
       "25%      1.000000         1.000000           1.000000   \n",
       "50%      1.000000         1.000000           1.000000   \n",
       "75%      2.000000         2.000000           2.000000   \n",
       "max      3.000000         2.000000           2.000000   \n",
       "\n",
       "       If_chance_given_to_taste_drugs  Easy_to_control_use_of_drug       Class  \n",
       "count                      440.000000                   440.000000  440.000000  \n",
       "mean                         1.584091                     1.181818    2.500000  \n",
       "std                          0.731474                     0.386134    1.119307  \n",
       "min                          1.000000                     1.000000    1.000000  \n",
       "25%                          1.000000                     1.000000    1.750000  \n",
       "50%                          1.000000                     1.000000    2.500000  \n",
       "75%                          2.000000                     1.000000    3.250000  \n",
       "max                          3.000000                     2.000000    4.000000  "
      ]
     },
     "execution_count": 106,
     "metadata": {},
     "output_type": "execute_result"
    }
   ],
   "source": [
    "df.describe()"
   ]
  },
  {
   "cell_type": "markdown",
   "metadata": {},
   "source": [
    "## Checking Null values\n",
    "-  no null values present"
   ]
  },
  {
   "cell_type": "code",
   "execution_count": 107,
   "metadata": {
    "execution": {
     "iopub.execute_input": "2021-07-07T09:03:39.181116Z",
     "iopub.status.busy": "2021-07-07T09:03:39.180802Z",
     "iopub.status.idle": "2021-07-07T09:03:39.189263Z",
     "shell.execute_reply": "2021-07-07T09:03:39.188437Z",
     "shell.execute_reply.started": "2021-07-07T09:03:39.181085Z"
    }
   },
   "outputs": [
    {
     "data": {
      "text/plain": [
       "Age                               0\n",
       "Gender                            0\n",
       "Education                         0\n",
       "Live_with                         0\n",
       "Motive_about_drug                 0\n",
       "Spend_most_time                   0\n",
       "Failure_in_life                   0\n",
       "Mental_emotional_problem          0\n",
       "Suicidal_thoughts                 0\n",
       "Family_relationship               0\n",
       "Financials_of_family              0\n",
       "Addicted_person_in_family         0\n",
       "Withdrawal_symptoms               0\n",
       "Satisfied_with_workplace          0\n",
       "Case_in_court                     0\n",
       "Living_with_drug_user             0\n",
       "Smoking                           0\n",
       "Ever_taken_drug                   0\n",
       "Friends_influence                 0\n",
       "If_chance_given_to_taste_drugs    0\n",
       "Easy_to_control_use_of_drug       0\n",
       "Class                             0\n",
       "dtype: int64"
      ]
     },
     "execution_count": 107,
     "metadata": {},
     "output_type": "execute_result"
    }
   ],
   "source": [
    "df.isnull().sum()"
   ]
  },
  {
   "cell_type": "markdown",
   "metadata": {},
   "source": [
    "## Checking Outliers"
   ]
  },
  {
   "cell_type": "code",
   "execution_count": 108,
   "metadata": {
    "execution": {
     "iopub.execute_input": "2021-07-07T09:03:39.190776Z",
     "iopub.status.busy": "2021-07-07T09:03:39.190461Z",
     "iopub.status.idle": "2021-07-07T09:03:39.200306Z",
     "shell.execute_reply": "2021-07-07T09:03:39.199228Z",
     "shell.execute_reply.started": "2021-07-07T09:03:39.190745Z"
    }
   },
   "outputs": [],
   "source": [
    "def lowerupper(col):\n",
    "    q1=np.quantile(col,.25)\n",
    "    q3=np.quantile(col,.75)\n",
    "    inter=q3-q1\n",
    "    lowerbound=q1-(inter*1.5)\n",
    "    upperbound=q3+(inter*1.5)\n",
    "    outlier=[]\n",
    "    for x in col:\n",
    "        if((x>upperbound)or(x<lowerbound)):\n",
    "            outlier.append(x)\n",
    "    return outlier\n",
    "            "
   ]
  },
  {
   "cell_type": "code",
   "execution_count": 109,
   "metadata": {
    "execution": {
     "iopub.execute_input": "2021-07-07T09:03:39.201637Z",
     "iopub.status.busy": "2021-07-07T09:03:39.201373Z",
     "iopub.status.idle": "2021-07-07T09:03:39.217084Z",
     "shell.execute_reply": "2021-07-07T09:03:39.216290Z",
     "shell.execute_reply.started": "2021-07-07T09:03:39.201611Z"
    }
   },
   "outputs": [
    {
     "name": "stdout",
     "output_type": "stream",
     "text": [
      "Index(['Age', 'Gender', 'Education', 'Live_with', 'Motive_about_drug',\n",
      "       'Spend_most_time', 'Failure_in_life', 'Mental_emotional_problem',\n",
      "       'Suicidal_thoughts', 'Family_relationship', 'Financials_of_family',\n",
      "       'Addicted_person_in_family', 'Withdrawal_symptoms',\n",
      "       'Satisfied_with_workplace', 'Case_in_court', 'Living_with_drug_user',\n",
      "       'Smoking', 'Ever_taken_drug', 'Friends_influence',\n",
      "       'If_chance_given_to_taste_drugs', 'Easy_to_control_use_of_drug',\n",
      "       'Class'],\n",
      "      dtype='object')\n"
     ]
    }
   ],
   "source": [
    "col=df.columns\n",
    "print(col)"
   ]
  },
  {
   "cell_type": "code",
   "execution_count": 110,
   "metadata": {
    "execution": {
     "iopub.execute_input": "2021-07-07T09:03:39.218297Z",
     "iopub.status.busy": "2021-07-07T09:03:39.218038Z",
     "iopub.status.idle": "2021-07-07T09:03:39.321637Z",
     "shell.execute_reply": "2021-07-07T09:03:39.320731Z",
     "shell.execute_reply.started": "2021-07-07T09:03:39.218271Z"
    }
   },
   "outputs": [
    {
     "name": "stdout",
     "output_type": "stream",
     "text": [
      "1 outliers are present in Age\n",
      "97 outliers are present in Gender\n",
      "7 outliers are present in Education\n",
      "0 outliers are present in Live_with\n",
      "150 outliers are present in Motive_about_drug\n",
      "117 outliers are present in Spend_most_time\n",
      "0 outliers are present in Failure_in_life\n",
      "45 outliers are present in Mental_emotional_problem\n",
      "0 outliers are present in Suicidal_thoughts\n",
      "0 outliers are present in Family_relationship\n",
      "0 outliers are present in Financials_of_family\n",
      "125 outliers are present in Addicted_person_in_family\n",
      "0 outliers are present in Withdrawal_symptoms\n",
      "0 outliers are present in Satisfied_with_workplace\n",
      "102 outliers are present in Case_in_court\n",
      "0 outliers are present in Living_with_drug_user\n",
      "0 outliers are present in Smoking\n",
      "0 outliers are present in Ever_taken_drug\n",
      "0 outliers are present in Friends_influence\n",
      "0 outliers are present in If_chance_given_to_taste_drugs\n",
      "80 outliers are present in Easy_to_control_use_of_drug\n",
      "0 outliers are present in Class\n"
     ]
    }
   ],
   "source": [
    "for i in col:\n",
    "    outlier=lowerupper(df[i].values)\n",
    "    print(len(outlier),\"outliers are present in\",i)"
   ]
  },
  {
   "cell_type": "markdown",
   "metadata": {},
   "source": [
    "## Handling outliers\n",
    "- Handling outliers by replacing them through upper limit and lower limit of that particular column. \n",
    "- Not handling outliers of column gender because it is an binary value."
   ]
  },
  {
   "cell_type": "code",
   "execution_count": 111,
   "metadata": {
    "execution": {
     "iopub.execute_input": "2021-07-07T09:03:39.323121Z",
     "iopub.status.busy": "2021-07-07T09:03:39.322828Z",
     "iopub.status.idle": "2021-07-07T09:03:39.329453Z",
     "shell.execute_reply": "2021-07-07T09:03:39.328495Z",
     "shell.execute_reply.started": "2021-07-07T09:03:39.323093Z"
    }
   },
   "outputs": [
    {
     "data": {
      "text/plain": [
       "'\\ndef lowerupper(col):\\n    q1=np.quantile(col,.25)\\n    q3=np.quantile(col,.75)\\n    inter=q3-q1\\n    lowerbound=q1-(inter*1.5)\\n    upperbound=q3+(inter*1.5)\\n    return lowerbound,upperbound\\n'"
      ]
     },
     "execution_count": 111,
     "metadata": {},
     "output_type": "execute_result"
    }
   ],
   "source": [
    "\"\"\"\n",
    "def lowerupper(col):\n",
    "    q1=np.quantile(col,.25)\n",
    "    q3=np.quantile(col,.75)\n",
    "    inter=q3-q1\n",
    "    lowerbound=q1-(inter*1.5)\n",
    "    upperbound=q3+(inter*1.5)\n",
    "    return lowerbound,upperbound\n",
    "\"\"\"            "
   ]
  },
  {
   "cell_type": "code",
   "execution_count": 112,
   "metadata": {
    "execution": {
     "iopub.execute_input": "2021-07-07T09:03:39.331248Z",
     "iopub.status.busy": "2021-07-07T09:03:39.330942Z",
     "iopub.status.idle": "2021-07-07T09:03:39.339490Z",
     "shell.execute_reply": "2021-07-07T09:03:39.338739Z",
     "shell.execute_reply.started": "2021-07-07T09:03:39.331217Z"
    }
   },
   "outputs": [
    {
     "data": {
      "text/plain": [
       "'\\nlb,ub=lowerupper(df[\"Age\"])\\ndf[\"Age\"]=np.where(df[\"Age\"]<lb,lb,df[\"Age\"])\\ndf[\"Age\"]=np.where(df[\"Age\"]>ub,ub,df[\"Age\"])\\n\\n#lb,ub=lowerupper(df[\"Gender\"])\\n#df[\"Gender\"]=np.where(df[\"Gender\"]<lb,lb,df[\"Gender\"])\\n#df[\"Gender\"]=np.where(df[\"Gender\"]>ub,ub,df[\"Gender\"])\\n\\nlb,ub=lowerupper(df[\"Education\"])\\ndf[\"Education\"]=np.where(df[\"Education\"]<lb,lb,df[\"Education\"])\\ndf[\"Education\"]=np.where(df[\"Education\"]>ub,ub,df[\"Education\"])\\n\\nlb,ub=lowerupper(df[\"Spend most time\"])\\ndf[\"Spend most time\"]=np.where(df[\"Spend most time\"]<lb,lb,df[\"Spend most time\"])\\ndf[\"Spend most time\"]=np.where(df[\"Spend most time\"]>ub,ub,df[\"Spend most time\"])\\n\\nlb,ub=lowerupper(df[\"Addicted person in family\"])\\ndf[\"Addicted person in family\"]=np.where(df[\"Addicted person in family\"]<lb,lb,df[\"Addicted person in family\"])\\ndf[\"Addicted person in family\"]=np.where(df[\"Addicted person in family\"]>ub,ub,df[\"Addicted person in family\"])\\n\\nlb,ub=lowerupper(df[\"Case in court\"])\\ndf[\"Case in court\"]=np.where(df[\"Case in court\"]<lb,lb,df[\"Case in court\"])\\ndf[\"Case in court\"]=np.where(df[\"Case in court\"]>ub,ub,df[\"Case in court\"])\\n'"
      ]
     },
     "execution_count": 112,
     "metadata": {},
     "output_type": "execute_result"
    }
   ],
   "source": [
    "\"\"\"\n",
    "lb,ub=lowerupper(df[\"Age\"])\n",
    "df[\"Age\"]=np.where(df[\"Age\"]<lb,lb,df[\"Age\"])\n",
    "df[\"Age\"]=np.where(df[\"Age\"]>ub,ub,df[\"Age\"])\n",
    "\n",
    "#lb,ub=lowerupper(df[\"Gender\"])\n",
    "#df[\"Gender\"]=np.where(df[\"Gender\"]<lb,lb,df[\"Gender\"])\n",
    "#df[\"Gender\"]=np.where(df[\"Gender\"]>ub,ub,df[\"Gender\"])\n",
    "\n",
    "lb,ub=lowerupper(df[\"Education\"])\n",
    "df[\"Education\"]=np.where(df[\"Education\"]<lb,lb,df[\"Education\"])\n",
    "df[\"Education\"]=np.where(df[\"Education\"]>ub,ub,df[\"Education\"])\n",
    "\n",
    "lb,ub=lowerupper(df[\"Spend most time\"])\n",
    "df[\"Spend most time\"]=np.where(df[\"Spend most time\"]<lb,lb,df[\"Spend most time\"])\n",
    "df[\"Spend most time\"]=np.where(df[\"Spend most time\"]>ub,ub,df[\"Spend most time\"])\n",
    "\n",
    "lb,ub=lowerupper(df[\"Addicted person in family\"])\n",
    "df[\"Addicted person in family\"]=np.where(df[\"Addicted person in family\"]<lb,lb,df[\"Addicted person in family\"])\n",
    "df[\"Addicted person in family\"]=np.where(df[\"Addicted person in family\"]>ub,ub,df[\"Addicted person in family\"])\n",
    "\n",
    "lb,ub=lowerupper(df[\"Case in court\"])\n",
    "df[\"Case in court\"]=np.where(df[\"Case in court\"]<lb,lb,df[\"Case in court\"])\n",
    "df[\"Case in court\"]=np.where(df[\"Case in court\"]>ub,ub,df[\"Case in court\"])\n",
    "\"\"\""
   ]
  },
  {
   "cell_type": "code",
   "execution_count": 113,
   "metadata": {
    "execution": {
     "iopub.execute_input": "2021-07-07T09:03:39.341672Z",
     "iopub.status.busy": "2021-07-07T09:03:39.341100Z",
     "iopub.status.idle": "2021-07-07T09:03:39.349832Z",
     "shell.execute_reply": "2021-07-07T09:03:39.348941Z",
     "shell.execute_reply.started": "2021-07-07T09:03:39.341628Z"
    }
   },
   "outputs": [
    {
     "data": {
      "text/plain": [
       "'\\nplt.subplot(1,3,1)\\nplt.subplots_adjust(left=0,right=2,bottom=1,top=2,wspace=0.2,hspace=0.4)\\nplt.title(\"Age\")\\nplt.boxplot(df[\"Age\"])\\n\\nplt.subplot(1,3,2)\\nplt.title(\"Education\")\\nplt.boxplot(df[\"Education\"])\\n\\nplt.subplot(1,3,3)\\nplt.title(\"Spend most time\")\\nplt.boxplot(df[\"Spend most time\"])\\n'"
      ]
     },
     "execution_count": 113,
     "metadata": {},
     "output_type": "execute_result"
    }
   ],
   "source": [
    "\"\"\"\n",
    "plt.subplot(1,3,1)\n",
    "plt.subplots_adjust(left=0,right=2,bottom=1,top=2,wspace=0.2,hspace=0.4)\n",
    "plt.title(\"Age\")\n",
    "plt.boxplot(df[\"Age\"])\n",
    "\n",
    "plt.subplot(1,3,2)\n",
    "plt.title(\"Education\")\n",
    "plt.boxplot(df[\"Education\"])\n",
    "\n",
    "plt.subplot(1,3,3)\n",
    "plt.title(\"Spend most time\")\n",
    "plt.boxplot(df[\"Spend most time\"])\n",
    "\"\"\""
   ]
  },
  {
   "cell_type": "code",
   "execution_count": 114,
   "metadata": {
    "execution": {
     "iopub.execute_input": "2021-07-07T09:03:39.351354Z",
     "iopub.status.busy": "2021-07-07T09:03:39.351080Z",
     "iopub.status.idle": "2021-07-07T09:03:39.365504Z",
     "shell.execute_reply": "2021-07-07T09:03:39.364758Z",
     "shell.execute_reply.started": "2021-07-07T09:03:39.351320Z"
    }
   },
   "outputs": [
    {
     "data": {
      "text/plain": [
       "'\\nplt.subplot(1,2,1)\\nplt.subplots_adjust(left=0,right=2,bottom=1,top=2,wspace=0.2,hspace=0.4)\\nplt.title(\"Addicted person in family\")\\nplt.boxplot(df[\"Addicted person in family\"])\\n\\nplt.subplot(1,2,2)\\nplt.title(\"Case in court\")\\nplt.boxplot(df[\"Case in court\"])\\n'"
      ]
     },
     "execution_count": 114,
     "metadata": {},
     "output_type": "execute_result"
    }
   ],
   "source": [
    "\"\"\"\n",
    "plt.subplot(1,2,1)\n",
    "plt.subplots_adjust(left=0,right=2,bottom=1,top=2,wspace=0.2,hspace=0.4)\n",
    "plt.title(\"Addicted person in family\")\n",
    "plt.boxplot(df[\"Addicted person in family\"])\n",
    "\n",
    "plt.subplot(1,2,2)\n",
    "plt.title(\"Case in court\")\n",
    "plt.boxplot(df[\"Case in court\"])\n",
    "\"\"\""
   ]
  },
  {
   "cell_type": "markdown",
   "metadata": {},
   "source": [
    "## Pie chart"
   ]
  },
  {
   "cell_type": "code",
   "execution_count": 115,
   "metadata": {
    "execution": {
     "iopub.execute_input": "2021-07-07T09:03:39.366837Z",
     "iopub.status.busy": "2021-07-07T09:03:39.366567Z",
     "iopub.status.idle": "2021-07-07T09:03:39.683608Z",
     "shell.execute_reply": "2021-07-07T09:03:39.682609Z",
     "shell.execute_reply.started": "2021-07-07T09:03:39.366799Z"
    }
   },
   "outputs": [
    {
     "data": {
      "text/plain": [
       "([<matplotlib.patches.Wedge at 0x22ec0896580>,\n",
       "  <matplotlib.patches.Wedge at 0x22ec0896a30>],\n",
       " [Text(-0.6840828629775153, 0.8614120016464167, '2'),\n",
       "  Text(0.6840827823263004, -0.8614120656948727, '1')])"
      ]
     },
     "execution_count": 115,
     "metadata": {},
     "output_type": "execute_result"
    },
    {
     "data": {
      "image/png": "[encoded data removed]",
      "text/plain": [
       "<Figure size 432x288 with 4 Axes>"
      ]
     },
     "metadata": {},
     "output_type": "display_data"
    }
   ],
   "source": [
    "plt.subplot(1,4,1)\n",
    "plt.subplots_adjust(left=0,right=2,bottom=1,top=2,wspace=0.2,hspace=0.4)\n",
    "label_age=[2,1 ,3 ,4]\n",
    "plt.title(\"Age\")\n",
    "plt.pie(df.groupby(df[\"Age\"]).size(),labels=label_age)\n",
    "\n",
    "plt.subplot(1,4,2)\n",
    "label_gen=[1 ,2]\n",
    "plt.title(\"Gender\")\n",
    "plt.pie(df.groupby(df[\"Gender\"]).size(),labels=label_gen)\n",
    "\n",
    "plt.subplot(1,4,3)\n",
    "label_ed=[4 ,3 ,5 ,1 ,2]\n",
    "plt.title(\"Education\")\n",
    "plt.pie(df.groupby(df[\"Education\"]).size(),labels=label_ed)\n",
    "\n",
    "plt.subplot(1,4,4)\n",
    "label_lw=[2 ,1]\n",
    "plt.title(\"Live with\")\n",
    "plt.pie(df.groupby(df[\"Live_with\"]).size(),labels=label_lw)\n"
   ]
  },
  {
   "cell_type": "code",
   "execution_count": 116,
   "metadata": {
    "execution": {
     "iopub.execute_input": "2021-07-07T09:03:39.685142Z",
     "iopub.status.busy": "2021-07-07T09:03:39.684870Z",
     "iopub.status.idle": "2021-07-07T09:03:39.987222Z",
     "shell.execute_reply": "2021-07-07T09:03:39.986459Z",
     "shell.execute_reply.started": "2021-07-07T09:03:39.685114Z"
    }
   },
   "outputs": [
    {
     "data": {
      "text/plain": [
       "([<matplotlib.patches.Wedge at 0x22ec09875b0>,\n",
       "  <matplotlib.patches.Wedge at 0x22ec0987a60>,\n",
       "  <matplotlib.patches.Wedge at 0x22ec0987ee0>,\n",
       "  <matplotlib.patches.Wedge at 0x22ec09923a0>,\n",
       "  <matplotlib.patches.Wedge at 0x22ec0992820>],\n",
       " [Text(0.3548226561519411, 1.0412016532263486, '1'),\n",
       "  Text(-0.9539342064157263, -0.5477312569408458, '2'),\n",
       "  Text(0.5545283054725072, -0.949999136015286, '3'),\n",
       "  Text(0.9080191184333016, -0.6208874942850837, '5'),\n",
       "  Text(1.0576280847911335, -0.30236209130947483, '4')])"
      ]
     },
     "execution_count": 116,
     "metadata": {},
     "output_type": "execute_result"
    },
    {
     "data": {
      "image/png": "[encoded data removed]",
      "text/plain": [
       "<Figure size 432x288 with 4 Axes>"
      ]
     },
     "metadata": {},
     "output_type": "display_data"
    }
   ],
   "source": [
    "plt.subplot(1,4,1)\n",
    "plt.subplots_adjust(left=0,right=2,bottom=1,top=2,wspace=0.2,hspace=0.4)\n",
    "label_md=[1, 3, 2]\n",
    "plt.title(\"Motive_about_drug\")\n",
    "plt.pie(df.groupby(df[\"Motive_about_drug\"]).size(),labels=label_md)\n",
    "\n",
    "plt.subplot(1,4,2)\n",
    "label_st=[3, 2, 1]\n",
    "plt.title(\"Spend_most_time\")\n",
    "plt.pie(df.groupby(df[\"Spend_most_time\"]).size(),labels=label_st)\n",
    "\n",
    "plt.subplot(1,4,3)\n",
    "label_fl=[1 ,2]\n",
    "plt.title(\"Failure_in_life\")\n",
    "plt.pie(df.groupby(df[\"Failure_in_life\"]).size(),labels=label_fl)\n",
    "\n",
    "plt.subplot(1,4,4)\n",
    "label_mp=[1, 2, 3, 5, 4]\n",
    "plt.title(\"Mental_emotional_problem\")\n",
    "plt.pie(df.groupby(df[\"Mental_emotional_problem\"]).size(),labels=label_mp)\n"
   ]
  },
  {
   "cell_type": "code",
   "execution_count": 117,
   "metadata": {
    "execution": {
     "iopub.execute_input": "2021-07-07T09:03:39.990702Z",
     "iopub.status.busy": "2021-07-07T09:03:39.990280Z",
     "iopub.status.idle": "2021-07-07T09:03:40.304010Z",
     "shell.execute_reply": "2021-07-07T09:03:40.302747Z",
     "shell.execute_reply.started": "2021-07-07T09:03:39.990671Z"
    }
   },
   "outputs": [
    {
     "data": {
      "text/plain": [
       "([<matplotlib.patches.Wedge at 0x22ec0a7fb50>,\n",
       "  <matplotlib.patches.Wedge at 0x22ec0a7ffd0>,\n",
       "  <matplotlib.patches.Wedge at 0x22ec0a8c4c0>],\n",
       " [Text(0.8415259596412235, 0.708402469822006, '2'),\n",
       "  Text(-0.9616583571206053, -0.5340535592804324, '3'),\n",
       "  Text(1.079623009572488, -0.21074666593244978, '1')])"
      ]
     },
     "execution_count": 117,
     "metadata": {},
     "output_type": "execute_result"
    },
    {
     "data": {
      "image/png": "[encoded data removed]",
      "text/plain": [
       "<Figure size 432x288 with 4 Axes>"
      ]
     },
     "metadata": {},
     "output_type": "display_data"
    }
   ],
   "source": [
    "plt.subplot(1,4,1)\n",
    "plt.subplots_adjust(left=0,right=2,bottom=1,top=2,wspace=0.2,hspace=0.4)\n",
    "label_st=[1 ,2]\n",
    "plt.title(\"Suicidal_thoughts\")\n",
    "plt.pie(df.groupby(df[\"Suicidal_thoughts\"]).size(),labels=label_st)\n",
    "\n",
    "plt.subplot(1,4,2)\n",
    "label_fr=[1, 2, 3]\n",
    "plt.title(\"Family_relationship\")\n",
    "plt.pie(df.groupby(df[\"Family_relationship\"]).size(),labels=label_fr)\n",
    "\n",
    "plt.subplot(1,4,3)\n",
    "label_ff=[3, 2 ,4 ,1]\n",
    "plt.title(\"Financials_of_family\")\n",
    "plt.pie(df.groupby(df[\"Financials_of_family\"]).size(),labels=label_ff)\n",
    "\n",
    "plt.subplot(1,4,4)\n",
    "label_af=[2, 3, 1]\n",
    "plt.title(\"Addicted_person_in_family\")\n",
    "plt.pie(df.groupby(df[\"Addicted_person_in_family\"]).size(),labels=label_af)\n"
   ]
  },
  {
   "cell_type": "code",
   "execution_count": 118,
   "metadata": {
    "execution": {
     "iopub.execute_input": "2021-07-07T09:03:40.306688Z",
     "iopub.status.busy": "2021-07-07T09:03:40.306253Z",
     "iopub.status.idle": "2021-07-07T09:03:40.894832Z",
     "shell.execute_reply": "2021-07-07T09:03:40.893621Z",
     "shell.execute_reply.started": "2021-07-07T09:03:40.306644Z"
    }
   },
   "outputs": [
    {
     "data": {
      "text/plain": [
       "([<matplotlib.patches.Wedge at 0x22ec0b70370>,\n",
       "  <matplotlib.patches.Wedge at 0x22ec0b70820>,\n",
       "  <matplotlib.patches.Wedge at 0x22ec0b70ca0>],\n",
       " [Text(-0.17983077878106074, 1.0852008528392323, '1'),\n",
       "  Text(0.08630502583501945, -1.096609065490349, '2'),\n",
       "  Text(1.0959649017255995, -0.09413253521284237, '3')])"
      ]
     },
     "execution_count": 118,
     "metadata": {},
     "output_type": "execute_result"
    },
    {
     "data": {
      "image/png": "[encoded data removed]",
      "text/plain": [
       "<Figure size 432x288 with 4 Axes>"
      ]
     },
     "metadata": {},
     "output_type": "display_data"
    }
   ],
   "source": [
    "plt.subplot(1,4,1)\n",
    "plt.subplots_adjust(left=0,right=2,bottom=1,top=2,wspace=0.2,hspace=0.4)\n",
    "label_ws=[2, 1]\n",
    "plt.title(\"Withdrawal_symptoms\")\n",
    "plt.pie(df.groupby(df[\"Withdrawal_symptoms\"]).size(),labels=label_ws)\n",
    "\n",
    "plt.subplot(1,4,2)\n",
    "label_sw=[2, 1]\n",
    "plt.title(\"Satisfied_with_workplace\")\n",
    "plt.pie(df.groupby(df[\"Satisfied_with_workplace\"]).size(),labels=label_sw)\n",
    "\n",
    "plt.subplot(1,4,3)\n",
    "label_cc=[2 ,1]\n",
    "plt.title(\"Case_in_court\")\n",
    "plt.pie(df.groupby(df[\"Case_in_court\"]).size(),labels=label_cc)\n",
    "\n",
    "plt.subplot(1,4,4)\n",
    "label_lu=[1, 2, 3]\n",
    "plt.title(\"Living_with_drug_user\")\n",
    "plt.pie(df.groupby(df[\"Living_with_drug_user\"]).size(),labels=label_lu)\n"
   ]
  },
  {
   "cell_type": "code",
   "execution_count": 119,
   "metadata": {
    "execution": {
     "iopub.execute_input": "2021-07-07T09:03:40.897014Z",
     "iopub.status.busy": "2021-07-07T09:03:40.896399Z",
     "iopub.status.idle": "2021-07-07T09:03:41.195651Z",
     "shell.execute_reply": "2021-07-07T09:03:41.194643Z",
     "shell.execute_reply.started": "2021-07-07T09:03:40.896964Z"
    }
   },
   "outputs": [
    {
     "data": {
      "text/plain": [
       "([<matplotlib.patches.Wedge at 0x22ec0c62070>,\n",
       "  <matplotlib.patches.Wedge at 0x22ec0c62550>,\n",
       "  <matplotlib.patches.Wedge at 0x22ec0c629d0>],\n",
       " [Text(-0.21074646376924336, 1.079623049035523, '1'),\n",
       "  Text(-0.2872289595280966, -1.0618378053207596, '3'),\n",
       "  Text(0.9871382331420975, -0.48534328950661115, '2')])"
      ]
     },
     "execution_count": 119,
     "metadata": {},
     "output_type": "execute_result"
    },
    {
     "data": {
      "image/png": "[encoded data removed]",
      "text/plain": [
       "<Figure size 432x288 with 4 Axes>"
      ]
     },
     "metadata": {},
     "output_type": "display_data"
    }
   ],
   "source": [
    "plt.subplot(1,4,1)\n",
    "plt.subplots_adjust(left=0,right=2,bottom=1,top=2,wspace=0.2,hspace=0.4)\n",
    "label_s=[1, 2, 3]\n",
    "plt.title(\"Smoking\")\n",
    "plt.pie(df.groupby(df[\"Smoking\"]).size(),labels=label_s)\n",
    "\n",
    "plt.subplot(1,4,2)\n",
    "label_etd=[1, 2]\n",
    "plt.title(\"Ever_taken_drug\")\n",
    "plt.pie(df.groupby(df[\"Ever_taken_drug\"]).size(),labels=label_etd)\n",
    "\n",
    "plt.subplot(1,4,3)\n",
    "label_fi=[1, 2]\n",
    "plt.title(\"Friends_influence\")\n",
    "plt.pie(df.groupby(df[\"Friends_influence\"]).size(),labels=label_fi)\n",
    "\n",
    "plt.subplot(1,4,4)\n",
    "label_id=[1, 3, 2]\n",
    "plt.title(\"If_chance_given_to_taste_drugs\")\n",
    "plt.pie(df.groupby(df[\"If_chance_given_to_taste_drugs\"]).size(),labels=label_id)\n"
   ]
  },
  {
   "cell_type": "code",
   "execution_count": 120,
   "metadata": {
    "execution": {
     "iopub.execute_input": "2021-07-07T09:03:41.197624Z",
     "iopub.status.busy": "2021-07-07T09:03:41.197206Z",
     "iopub.status.idle": "2021-07-07T09:03:41.288644Z",
     "shell.execute_reply": "2021-07-07T09:03:41.287688Z",
     "shell.execute_reply.started": "2021-07-07T09:03:41.197580Z"
    }
   },
   "outputs": [
    {
     "data": {
      "image/png": "[encoded data removed]",
      "text/plain": [
       "<Figure size 432x288 with 1 Axes>"
      ]
     },
     "metadata": {},
     "output_type": "display_data"
    }
   ],
   "source": [
    "plt.figure()\n",
    "label_c=[2, 3, 4, 1]\n",
    "plt.title(\"Class\")\n",
    "plt.pie(df.groupby(df[\"Class\"]).size(),labels=label_c)\n",
    "plt.show()"
   ]
  },
  {
   "cell_type": "markdown",
   "metadata": {},
   "source": [
    "## Barplot"
   ]
  },
  {
   "cell_type": "code",
   "execution_count": 121,
   "metadata": {
    "execution": {
     "iopub.execute_input": "2021-07-07T09:03:41.290442Z",
     "iopub.status.busy": "2021-07-07T09:03:41.290130Z",
     "iopub.status.idle": "2021-07-07T09:03:42.109206Z",
     "shell.execute_reply": "2021-07-07T09:03:42.108505Z",
     "shell.execute_reply.started": "2021-07-07T09:03:41.290410Z"
    }
   },
   "outputs": [
    {
     "data": {
      "text/plain": [
       "<matplotlib.axes._subplots.AxesSubplot at 0x22ec0ccbc40>"
      ]
     },
     "execution_count": 121,
     "metadata": {},
     "output_type": "execute_result"
    },
    {
     "data": {
      "image/png": "[encoded data removed]",
      "text/plain": [
       "<Figure size 432x288 with 3 Axes>"
      ]
     },
     "metadata": {
      "needs_background": "light"
     },
     "output_type": "display_data"
    }
   ],
   "source": [
    "plt.subplot(1,3,1)\n",
    "plt.subplots_adjust(left=0,right=2,bottom=1,top=2,wspace=0.2,hspace=0.4)\n",
    "plt.title(\"Age\")\n",
    "sb.barplot(data=df,x=\"Class\",y=\"Age\")\n",
    "\n",
    "plt.subplot(1,3,2)\n",
    "plt.title(\"Gender\")\n",
    "sb.barplot(data=df,x=\"Class\",y=\"Gender\")\n",
    "\n",
    "plt.subplot(1,3,3)\n",
    "plt.title(\"Education\")\n",
    "sb.barplot(data=df,x=\"Class\",y=\"Education\")\n"
   ]
  },
  {
   "cell_type": "code",
   "execution_count": 122,
   "metadata": {
    "execution": {
     "iopub.execute_input": "2021-07-07T09:03:42.110619Z",
     "iopub.status.busy": "2021-07-07T09:03:42.110230Z",
     "iopub.status.idle": "2021-07-07T09:03:42.915324Z",
     "shell.execute_reply": "2021-07-07T09:03:42.914355Z",
     "shell.execute_reply.started": "2021-07-07T09:03:42.110577Z"
    }
   },
   "outputs": [
    {
     "data": {
      "text/plain": [
       "<matplotlib.axes._subplots.AxesSubplot at 0x22ec0dec1f0>"
      ]
     },
     "execution_count": 122,
     "metadata": {},
     "output_type": "execute_result"
    },
    {
     "data": {
      "image/png": "[encoded data removed]",
      "text/plain": [
       "<Figure size 432x288 with 3 Axes>"
      ]
     },
     "metadata": {
      "needs_background": "light"
     },
     "output_type": "display_data"
    }
   ],
   "source": [
    "plt.subplot(1,3,1)\n",
    "plt.subplots_adjust(left=0,right=2,bottom=1,top=2,wspace=0.2,hspace=0.4)\n",
    "plt.title(\"Live with\")\n",
    "sb.barplot(data=df,x=\"Class\",y=\"Live_with\")\n",
    "\n",
    "plt.subplot(1,3,2)\n",
    "plt.title(\"Motive about drug\")\n",
    "sb.barplot(data=df,x=\"Class\",y=\"Motive_about_drug\")\n",
    "\n",
    "plt.subplot(1,3,3)\n",
    "plt.title(\"Spend most time\")\n",
    "sb.barplot(data=df,x=\"Class\",y=\"Spend_most_time\")\n"
   ]
  },
  {
   "cell_type": "code",
   "execution_count": 123,
   "metadata": {
    "execution": {
     "iopub.execute_input": "2021-07-07T09:03:42.917130Z",
     "iopub.status.busy": "2021-07-07T09:03:42.916786Z",
     "iopub.status.idle": "2021-07-07T09:03:43.726365Z",
     "shell.execute_reply": "2021-07-07T09:03:43.725210Z",
     "shell.execute_reply.started": "2021-07-07T09:03:42.917098Z"
    }
   },
   "outputs": [
    {
     "data": {
      "text/plain": [
       "<matplotlib.axes._subplots.AxesSubplot at 0x22ec0dd9610>"
      ]
     },
     "execution_count": 123,
     "metadata": {},
     "output_type": "execute_result"
    },
    {
     "data": {
      "image/png": "[encoded data removed]",
      "text/plain": [
       "<Figure size 432x288 with 3 Axes>"
      ]
     },
     "metadata": {
      "needs_background": "light"
     },
     "output_type": "display_data"
    }
   ],
   "source": [
    "plt.subplot(1,3,1)\n",
    "plt.subplots_adjust(left=0,right=2,bottom=1,top=2,wspace=0.2,hspace=0.4)\n",
    "plt.title(\"Failure in life\")\n",
    "sb.barplot(data=df,x=\"Class\",y=\"Failure_in_life\")\n",
    "\n",
    "plt.subplot(1,3,2)\n",
    "plt.title(\"Mental/emotional problem\")\n",
    "sb.barplot(data=df,x=\"Class\",y=\"Mental_emotional_problem\")\n",
    "\n",
    "plt.subplot(1,3,3)\n",
    "plt.title(\"Suicidal thoughts\")\n",
    "sb.barplot(data=df,x=\"Class\",y=\"Suicidal_thoughts\")\n"
   ]
  },
  {
   "cell_type": "code",
   "execution_count": 124,
   "metadata": {
    "execution": {
     "iopub.execute_input": "2021-07-07T09:03:43.728441Z",
     "iopub.status.busy": "2021-07-07T09:03:43.728032Z",
     "iopub.status.idle": "2021-07-07T09:03:44.532618Z",
     "shell.execute_reply": "2021-07-07T09:03:44.531656Z",
     "shell.execute_reply.started": "2021-07-07T09:03:43.728396Z"
    }
   },
   "outputs": [
    {
     "data": {
      "text/plain": [
       "<matplotlib.axes._subplots.AxesSubplot at 0x22ec08eda30>"
      ]
     },
     "execution_count": 124,
     "metadata": {},
     "output_type": "execute_result"
    },
    {
     "data": {
      "image/png": "[encoded data removed]",
      "text/plain": [
       "<Figure size 432x288 with 3 Axes>"
      ]
     },
     "metadata": {
      "needs_background": "light"
     },
     "output_type": "display_data"
    }
   ],
   "source": [
    "plt.subplot(1,3,1)\n",
    "plt.subplots_adjust(left=0,right=2,bottom=1,top=2,wspace=0.2,hspace=0.4)\n",
    "plt.title(\"Family relationship\")\n",
    "sb.barplot(data=df,x=\"Class\",y=\"Family_relationship\")\n",
    "\n",
    "plt.subplot(1,3,2)\n",
    "plt.title(\"Financials of family\")\n",
    "sb.barplot(data=df,x=\"Class\",y=\"Financials_of_family\")\n",
    "\n",
    "plt.subplot(1,3,3)\n",
    "plt.title(\"Addicted person in family\")\n",
    "sb.barplot(data=df,x=\"Class\",y=\"Addicted_person_in_family\")\n"
   ]
  },
  {
   "cell_type": "code",
   "execution_count": 125,
   "metadata": {
    "execution": {
     "iopub.execute_input": "2021-07-07T09:03:44.534311Z",
     "iopub.status.busy": "2021-07-07T09:03:44.534023Z",
     "iopub.status.idle": "2021-07-07T09:03:45.346684Z",
     "shell.execute_reply": "2021-07-07T09:03:45.345721Z",
     "shell.execute_reply.started": "2021-07-07T09:03:44.534284Z"
    }
   },
   "outputs": [
    {
     "data": {
      "text/plain": [
       "<matplotlib.axes._subplots.AxesSubplot at 0x22ec09355e0>"
      ]
     },
     "execution_count": 125,
     "metadata": {},
     "output_type": "execute_result"
    },
    {
     "data": {
      "image/png": "[encoded data removed]",
      "text/plain": [
       "<Figure size 432x288 with 3 Axes>"
      ]
     },
     "metadata": {
      "needs_background": "light"
     },
     "output_type": "display_data"
    }
   ],
   "source": [
    "plt.subplot(1,3,1)\n",
    "plt.subplots_adjust(left=0,right=2,bottom=1,top=2,wspace=0.2,hspace=0.4)\n",
    "plt.title(\"Withdrawal symptoms\")\n",
    "sb.barplot(data=df,x=\"Class\",y=\"Withdrawal_symptoms\")\n",
    "\n",
    "plt.subplot(1,3,2)\n",
    "plt.title(\"Satisfied with workplace\")\n",
    "sb.barplot(data=df,x=\"Class\",y=\"Satisfied_with_workplace\")\n",
    "\n",
    "plt.subplot(1,3,3)\n",
    "plt.title(\"Case in court\")\n",
    "sb.barplot(data=df,x=\"Class\",y=\"Case_in_court\")\n"
   ]
  },
  {
   "cell_type": "code",
   "execution_count": 126,
   "metadata": {
    "execution": {
     "iopub.execute_input": "2021-07-07T09:03:45.349366Z",
     "iopub.status.busy": "2021-07-07T09:03:45.348955Z",
     "iopub.status.idle": "2021-07-07T09:03:46.155105Z",
     "shell.execute_reply": "2021-07-07T09:03:46.153962Z",
     "shell.execute_reply.started": "2021-07-07T09:03:45.349323Z"
    }
   },
   "outputs": [
    {
     "data": {
      "text/plain": [
       "<matplotlib.axes._subplots.AxesSubplot at 0x22ec1881df0>"
      ]
     },
     "execution_count": 126,
     "metadata": {},
     "output_type": "execute_result"
    },
    {
     "data": {
      "image/png": "[encoded data removed]",
      "text/plain": [
       "<Figure size 432x288 with 3 Axes>"
      ]
     },
     "metadata": {
      "needs_background": "light"
     },
     "output_type": "display_data"
    }
   ],
   "source": [
    "plt.subplot(1,3,1)\n",
    "plt.subplots_adjust(left=0,right=2,bottom=1,top=2,wspace=0.2,hspace=0.4)\n",
    "plt.title(\"Living with drug user\")\n",
    "sb.barplot(data=df,x=\"Class\",y=\"Living_with_drug_user\")\n",
    "\n",
    "plt.subplot(1,3,2)\n",
    "plt.title(\"Smoking\")\n",
    "sb.barplot(data=df,x=\"Class\",y=\"Smoking\")\n",
    "\n",
    "plt.subplot(1,3,3)\n",
    "plt.title(\"Ever taken drug\")\n",
    "sb.barplot(data=df,x=\"Class\",y=\"Ever_taken_drug\")\n"
   ]
  },
  {
   "cell_type": "code",
   "execution_count": 127,
   "metadata": {
    "execution": {
     "iopub.execute_input": "2021-07-07T09:03:46.157004Z",
     "iopub.status.busy": "2021-07-07T09:03:46.156602Z",
     "iopub.status.idle": "2021-07-07T09:03:46.975338Z",
     "shell.execute_reply": "2021-07-07T09:03:46.974184Z",
     "shell.execute_reply.started": "2021-07-07T09:03:46.156970Z"
    }
   },
   "outputs": [
    {
     "data": {
      "text/plain": [
       "<matplotlib.axes._subplots.AxesSubplot at 0x22ec19a90d0>"
      ]
     },
     "execution_count": 127,
     "metadata": {},
     "output_type": "execute_result"
    },
    {
     "data": {
      "image/png": "[encoded data removed]",
      "text/plain": [
       "<Figure size 432x288 with 3 Axes>"
      ]
     },
     "metadata": {
      "needs_background": "light"
     },
     "output_type": "display_data"
    }
   ],
   "source": [
    "plt.subplot(1,3,1)\n",
    "plt.subplots_adjust(left=0,right=2,bottom=1,top=2,wspace=0.2,hspace=0.4)\n",
    "plt.title(\"Friends influence\")\n",
    "sb.barplot(data=df,x=\"Class\",y=\"Friends_influence\")\n",
    "\n",
    "plt.subplot(1,3,2)\n",
    "plt.title(\"If chance given to taste drugs\")\n",
    "sb.barplot(data=df,x=\"Class\",y=\"If_chance_given_to_taste_drugs\")\n",
    "\n",
    "plt.subplot(1,3,3)\n",
    "plt.title(\"Easy to control use of drug\")\n",
    "sb.barplot(data=df,x=\"Class\",y=\"Easy_to_control_use_of_drug\")\n"
   ]
  },
  {
   "cell_type": "code",
   "execution_count": 128,
   "metadata": {
    "execution": {
     "iopub.execute_input": "2021-07-07T09:03:46.977528Z",
     "iopub.status.busy": "2021-07-07T09:03:46.977113Z",
     "iopub.status.idle": "2021-07-07T09:03:46.985689Z",
     "shell.execute_reply": "2021-07-07T09:03:46.984450Z",
     "shell.execute_reply.started": "2021-07-07T09:03:46.977485Z"
    }
   },
   "outputs": [
    {
     "data": {
      "text/plain": [
       "Index(['Age', 'Gender', 'Education', 'Live_with', 'Motive_about_drug',\n",
       "       'Spend_most_time', 'Failure_in_life', 'Mental_emotional_problem',\n",
       "       'Suicidal_thoughts', 'Family_relationship', 'Financials_of_family',\n",
       "       'Addicted_person_in_family', 'Withdrawal_symptoms',\n",
       "       'Satisfied_with_workplace', 'Case_in_court', 'Living_with_drug_user',\n",
       "       'Smoking', 'Ever_taken_drug', 'Friends_influence',\n",
       "       'If_chance_given_to_taste_drugs', 'Easy_to_control_use_of_drug',\n",
       "       'Class'],\n",
       "      dtype='object')"
      ]
     },
     "execution_count": 128,
     "metadata": {},
     "output_type": "execute_result"
    }
   ],
   "source": [
    "df.columns"
   ]
  },
  {
   "cell_type": "code",
   "execution_count": 129,
   "metadata": {
    "execution": {
     "iopub.execute_input": "2021-07-07T09:03:46.987398Z",
     "iopub.status.busy": "2021-07-07T09:03:46.987072Z",
     "iopub.status.idle": "2021-07-07T09:03:46.999607Z",
     "shell.execute_reply": "2021-07-07T09:03:46.998489Z",
     "shell.execute_reply.started": "2021-07-07T09:03:46.987366Z"
    }
   },
   "outputs": [],
   "source": [
    "X=df[['Age', 'Gender', 'Education', 'Live_with', 'Motive_about_drug',\n",
    "       'Spend_most_time', 'Failure_in_life', 'Mental_emotional_problem',\n",
    "       'Suicidal_thoughts', 'Family_relationship', 'Financials_of_family',\n",
    "       'Addicted_person_in_family', 'Withdrawal_symptoms',\n",
    "       'Satisfied_with_workplace', 'Case_in_court', 'Living_with_drug_user',\n",
    "       'Smoking', 'Ever_taken_drug', 'Friends_influence',\n",
    "       'If_chance_given_to_taste_drugs', 'Easy_to_control_use_of_drug']]\n",
    "y=df['Class']"
   ]
  },
  {
   "cell_type": "code",
   "execution_count": 130,
   "metadata": {
    "execution": {
     "iopub.execute_input": "2021-07-07T09:03:47.002764Z",
     "iopub.status.busy": "2021-07-07T09:03:47.002265Z",
     "iopub.status.idle": "2021-07-07T09:03:47.012385Z",
     "shell.execute_reply": "2021-07-07T09:03:47.011467Z",
     "shell.execute_reply.started": "2021-07-07T09:03:47.002718Z"
    }
   },
   "outputs": [],
   "source": [
    "from sklearn.ensemble import ExtraTreesClassifier\n",
    "from sklearn.feature_selection import SelectKBest, chi2, f_classif"
   ]
  },
  {
   "cell_type": "code",
   "execution_count": 131,
   "metadata": {
    "execution": {
     "iopub.execute_input": "2021-07-07T09:03:47.014265Z",
     "iopub.status.busy": "2021-07-07T09:03:47.013885Z",
     "iopub.status.idle": "2021-07-07T09:03:47.201215Z",
     "shell.execute_reply": "2021-07-07T09:03:47.200231Z",
     "shell.execute_reply.started": "2021-07-07T09:03:47.014235Z"
    }
   },
   "outputs": [],
   "source": [
    "model_etc=ExtraTreesClassifier(n_estimators=100).fit(X,y)\n",
    "model_skb_chi=SelectKBest(chi2,k=20).fit(X,y)\n",
    "model_skb_fc=SelectKBest(f_classif,k=20).fit(X,y)\n",
    "scores=pd.DataFrame({\"col\": X, \"ETC\":model_etc.feature_importances_,\"SKB_Chi\":model_skb_chi.scores_,\"SKB_Fc\":model_skb_fc.scores_})\n",
    "scores=scores.sort_values(by=[\"ETC\",\"SKB_Chi\",\"SKB_Fc\"], axis=0, ascending=False, kind=\"quicksort\", na_position=\"last\")"
   ]
  },
  {
   "cell_type": "code",
   "execution_count": 132,
   "metadata": {
    "execution": {
     "iopub.execute_input": "2021-07-07T09:03:47.203127Z",
     "iopub.status.busy": "2021-07-07T09:03:47.202579Z",
     "iopub.status.idle": "2021-07-07T09:03:47.231041Z",
     "shell.execute_reply": "2021-07-07T09:03:47.229947Z",
     "shell.execute_reply.started": "2021-07-07T09:03:47.203078Z"
    }
   },
   "outputs": [
    {
     "data": {
      "text/html": [
       "<div>\n",
       "<style scoped>\n",
       "    .dataframe tbody tr th:only-of-type {\n",
       "        vertical-align: middle;\n",
       "    }\n",
       "\n",
       "    .dataframe tbody tr th {\n",
       "        vertical-align: top;\n",
       "    }\n",
       "\n",
       "    .dataframe thead th {\n",
       "        text-align: right;\n",
       "    }\n",
       "</style>\n",
       "<table border=\"1\" class=\"dataframe\">\n",
       "  <thead>\n",
       "    <tr style=\"text-align: right;\">\n",
       "      <th></th>\n",
       "      <th>col</th>\n",
       "      <th>ETC</th>\n",
       "      <th>SKB_Chi</th>\n",
       "      <th>SKB_Fc</th>\n",
       "    </tr>\n",
       "  </thead>\n",
       "  <tbody>\n",
       "    <tr>\n",
       "      <th>17</th>\n",
       "      <td>(E, v, e, r, _, t, a, k, e, n, _, d, r, u, g)</td>\n",
       "      <td>0.127292</td>\n",
       "      <td>47.877876</td>\n",
       "      <td>319.004547</td>\n",
       "    </tr>\n",
       "    <tr>\n",
       "      <th>16</th>\n",
       "      <td>(S, m, o, k, i, n, g)</td>\n",
       "      <td>0.076479</td>\n",
       "      <td>82.262687</td>\n",
       "      <td>141.663101</td>\n",
       "    </tr>\n",
       "    <tr>\n",
       "      <th>10</th>\n",
       "      <td>(F, i, n, a, n, c, i, a, l, s, _, o, f, _, f, ...</td>\n",
       "      <td>0.062596</td>\n",
       "      <td>8.143939</td>\n",
       "      <td>8.712034</td>\n",
       "    </tr>\n",
       "    <tr>\n",
       "      <th>7</th>\n",
       "      <td>(M, e, n, t, a, l, _, e, m, o, t, i, o, n, a, ...</td>\n",
       "      <td>0.054432</td>\n",
       "      <td>2.328844</td>\n",
       "      <td>1.142289</td>\n",
       "    </tr>\n",
       "    <tr>\n",
       "      <th>15</th>\n",
       "      <td>(L, i, v, i, n, g, _, w, i, t, h, _, d, r, u, ...</td>\n",
       "      <td>0.054360</td>\n",
       "      <td>22.007704</td>\n",
       "      <td>46.588371</td>\n",
       "    </tr>\n",
       "    <tr>\n",
       "      <th>4</th>\n",
       "      <td>(M, o, t, i, v, e, _, a, b, o, u, t, _, d, r, ...</td>\n",
       "      <td>0.051857</td>\n",
       "      <td>18.505263</td>\n",
       "      <td>58.707375</td>\n",
       "    </tr>\n",
       "    <tr>\n",
       "      <th>6</th>\n",
       "      <td>(F, a, i, l, u, r, e, _, i, n, _, l, i, f, e)</td>\n",
       "      <td>0.051710</td>\n",
       "      <td>11.647555</td>\n",
       "      <td>27.127195</td>\n",
       "    </tr>\n",
       "    <tr>\n",
       "      <th>9</th>\n",
       "      <td>(F, a, m, i, l, y, _, r, e, l, a, t, i, o, n, ...</td>\n",
       "      <td>0.051345</td>\n",
       "      <td>12.382309</td>\n",
       "      <td>18.294025</td>\n",
       "    </tr>\n",
       "    <tr>\n",
       "      <th>19</th>\n",
       "      <td>(I, f, _, c, h, a, n, c, e, _, g, i, v, e, n, ...</td>\n",
       "      <td>0.050712</td>\n",
       "      <td>39.430416</td>\n",
       "      <td>52.646568</td>\n",
       "    </tr>\n",
       "    <tr>\n",
       "      <th>8</th>\n",
       "      <td>(S, u, i, c, i, d, a, l, _, t, h, o, u, g, h, ...</td>\n",
       "      <td>0.044778</td>\n",
       "      <td>7.278107</td>\n",
       "      <td>16.542767</td>\n",
       "    </tr>\n",
       "    <tr>\n",
       "      <th>18</th>\n",
       "      <td>(F, r, i, e, n, d, s, _, i, n, f, l, u, e, n, ...</td>\n",
       "      <td>0.043134</td>\n",
       "      <td>19.064103</td>\n",
       "      <td>49.104919</td>\n",
       "    </tr>\n",
       "    <tr>\n",
       "      <th>0</th>\n",
       "      <td>(A, g, e)</td>\n",
       "      <td>0.042483</td>\n",
       "      <td>1.197970</td>\n",
       "      <td>1.965814</td>\n",
       "    </tr>\n",
       "    <tr>\n",
       "      <th>12</th>\n",
       "      <td>(W, i, t, h, d, r, a, w, a, l, _, s, y, m, p, ...</td>\n",
       "      <td>0.038946</td>\n",
       "      <td>0.671053</td>\n",
       "      <td>1.309271</td>\n",
       "    </tr>\n",
       "    <tr>\n",
       "      <th>20</th>\n",
       "      <td>(E, a, s, y, _, t, o, _, c, o, n, t, r, o, l, ...</td>\n",
       "      <td>0.037774</td>\n",
       "      <td>4.615385</td>\n",
       "      <td>13.212081</td>\n",
       "    </tr>\n",
       "    <tr>\n",
       "      <th>14</th>\n",
       "      <td>(C, a, s, e, _, i, n, _, c, o, u, r, t)</td>\n",
       "      <td>0.036136</td>\n",
       "      <td>5.413882</td>\n",
       "      <td>20.226883</td>\n",
       "    </tr>\n",
       "    <tr>\n",
       "      <th>2</th>\n",
       "      <td>(E, d, u, c, a, t, i, o, n)</td>\n",
       "      <td>0.035572</td>\n",
       "      <td>8.953224</td>\n",
       "      <td>20.182991</td>\n",
       "    </tr>\n",
       "    <tr>\n",
       "      <th>3</th>\n",
       "      <td>(L, i, v, e, _, w, i, t, h)</td>\n",
       "      <td>0.031279</td>\n",
       "      <td>2.014134</td>\n",
       "      <td>4.311842</td>\n",
       "    </tr>\n",
       "    <tr>\n",
       "      <th>5</th>\n",
       "      <td>(S, p, e, n, d, _, m, o, s, t, _, t, i, m, e)</td>\n",
       "      <td>0.030348</td>\n",
       "      <td>2.467301</td>\n",
       "      <td>6.297904</td>\n",
       "    </tr>\n",
       "    <tr>\n",
       "      <th>13</th>\n",
       "      <td>(S, a, t, i, s, f, i, e, d, _, w, i, t, h, _, ...</td>\n",
       "      <td>0.029808</td>\n",
       "      <td>0.753425</td>\n",
       "      <td>1.515898</td>\n",
       "    </tr>\n",
       "    <tr>\n",
       "      <th>11</th>\n",
       "      <td>(A, d, d, i, c, t, e, d, _, p, e, r, s, o, n, ...</td>\n",
       "      <td>0.026239</td>\n",
       "      <td>1.249691</td>\n",
       "      <td>3.001800</td>\n",
       "    </tr>\n",
       "    <tr>\n",
       "      <th>1</th>\n",
       "      <td>(G, e, n, d, e, r)</td>\n",
       "      <td>0.022720</td>\n",
       "      <td>6.277467</td>\n",
       "      <td>16.385271</td>\n",
       "    </tr>\n",
       "  </tbody>\n",
       "</table>\n",
       "</div>"
      ],
      "text/plain": [
       "                                                  col       ETC    SKB_Chi  \\\n",
       "17      (E, v, e, r, _, t, a, k, e, n, _, d, r, u, g)  0.127292  47.877876   \n",
       "16                              (S, m, o, k, i, n, g)  0.076479  82.262687   \n",
       "10  (F, i, n, a, n, c, i, a, l, s, _, o, f, _, f, ...  0.062596   8.143939   \n",
       "7   (M, e, n, t, a, l, _, e, m, o, t, i, o, n, a, ...  0.054432   2.328844   \n",
       "15  (L, i, v, i, n, g, _, w, i, t, h, _, d, r, u, ...  0.054360  22.007704   \n",
       "4   (M, o, t, i, v, e, _, a, b, o, u, t, _, d, r, ...  0.051857  18.505263   \n",
       "6       (F, a, i, l, u, r, e, _, i, n, _, l, i, f, e)  0.051710  11.647555   \n",
       "9   (F, a, m, i, l, y, _, r, e, l, a, t, i, o, n, ...  0.051345  12.382309   \n",
       "19  (I, f, _, c, h, a, n, c, e, _, g, i, v, e, n, ...  0.050712  39.430416   \n",
       "8   (S, u, i, c, i, d, a, l, _, t, h, o, u, g, h, ...  0.044778   7.278107   \n",
       "18  (F, r, i, e, n, d, s, _, i, n, f, l, u, e, n, ...  0.043134  19.064103   \n",
       "0                                           (A, g, e)  0.042483   1.197970   \n",
       "12  (W, i, t, h, d, r, a, w, a, l, _, s, y, m, p, ...  0.038946   0.671053   \n",
       "20  (E, a, s, y, _, t, o, _, c, o, n, t, r, o, l, ...  0.037774   4.615385   \n",
       "14            (C, a, s, e, _, i, n, _, c, o, u, r, t)  0.036136   5.413882   \n",
       "2                         (E, d, u, c, a, t, i, o, n)  0.035572   8.953224   \n",
       "3                         (L, i, v, e, _, w, i, t, h)  0.031279   2.014134   \n",
       "5       (S, p, e, n, d, _, m, o, s, t, _, t, i, m, e)  0.030348   2.467301   \n",
       "13  (S, a, t, i, s, f, i, e, d, _, w, i, t, h, _, ...  0.029808   0.753425   \n",
       "11  (A, d, d, i, c, t, e, d, _, p, e, r, s, o, n, ...  0.026239   1.249691   \n",
       "1                                  (G, e, n, d, e, r)  0.022720   6.277467   \n",
       "\n",
       "        SKB_Fc  \n",
       "17  319.004547  \n",
       "16  141.663101  \n",
       "10    8.712034  \n",
       "7     1.142289  \n",
       "15   46.588371  \n",
       "4    58.707375  \n",
       "6    27.127195  \n",
       "9    18.294025  \n",
       "19   52.646568  \n",
       "8    16.542767  \n",
       "18   49.104919  \n",
       "0     1.965814  \n",
       "12    1.309271  \n",
       "20   13.212081  \n",
       "14   20.226883  \n",
       "2    20.182991  \n",
       "3     4.311842  \n",
       "5     6.297904  \n",
       "13    1.515898  \n",
       "11    3.001800  \n",
       "1    16.385271  "
      ]
     },
     "execution_count": 132,
     "metadata": {},
     "output_type": "execute_result"
    }
   ],
   "source": [
    "scores"
   ]
  },
  {
   "cell_type": "markdown",
   "metadata": {},
   "source": [
    "## Splitting Data"
   ]
  },
  {
   "cell_type": "code",
   "execution_count": 133,
   "metadata": {
    "execution": {
     "iopub.execute_input": "2021-07-07T09:03:47.232626Z",
     "iopub.status.busy": "2021-07-07T09:03:47.232341Z",
     "iopub.status.idle": "2021-07-07T09:03:47.236014Z",
     "shell.execute_reply": "2021-07-07T09:03:47.235011Z",
     "shell.execute_reply.started": "2021-07-07T09:03:47.232600Z"
    }
   },
   "outputs": [],
   "source": [
    "from sklearn.model_selection import train_test_split"
   ]
  },
  {
   "cell_type": "code",
   "execution_count": 134,
   "metadata": {
    "execution": {
     "iopub.execute_input": "2021-07-07T09:03:47.237685Z",
     "iopub.status.busy": "2021-07-07T09:03:47.237391Z",
     "iopub.status.idle": "2021-07-07T09:03:47.255529Z",
     "shell.execute_reply": "2021-07-07T09:03:47.254426Z",
     "shell.execute_reply.started": "2021-07-07T09:03:47.237657Z"
    }
   },
   "outputs": [
    {
     "name": "stdout",
     "output_type": "stream",
     "text": [
      "(308, 21) (308,)\n",
      "(132, 21) (132,)\n"
     ]
    }
   ],
   "source": [
    "X_train,X_test,y_train,y_test=train_test_split(X,y,test_size=0.30,random_state=100)\n",
    "print(X_train.shape,y_train.shape)\n",
    "print(X_test.shape,y_test.shape)"
   ]
  },
  {
   "cell_type": "markdown",
   "metadata": {},
   "source": [
    "## Prediction Model\n",
    "- RandomForestClassifier"
   ]
  },
  {
   "cell_type": "code",
   "execution_count": 135,
   "metadata": {
    "execution": {
     "iopub.execute_input": "2021-07-07T09:03:47.257184Z",
     "iopub.status.busy": "2021-07-07T09:03:47.256814Z",
     "iopub.status.idle": "2021-07-07T09:03:47.272410Z",
     "shell.execute_reply": "2021-07-07T09:03:47.271348Z",
     "shell.execute_reply.started": "2021-07-07T09:03:47.257153Z"
    }
   },
   "outputs": [],
   "source": [
    "from sklearn.ensemble import RandomForestClassifier"
   ]
  },
  {
   "cell_type": "code",
   "execution_count": 136,
   "metadata": {
    "execution": {
     "iopub.execute_input": "2021-07-07T09:03:47.275041Z",
     "iopub.status.busy": "2021-07-07T09:03:47.274489Z",
     "iopub.status.idle": "2021-07-07T09:03:47.499816Z",
     "shell.execute_reply": "2021-07-07T09:03:47.498704Z",
     "shell.execute_reply.started": "2021-07-07T09:03:47.274994Z"
    }
   },
   "outputs": [],
   "source": [
    "model_rc=RandomForestClassifier().fit(X_train,y_train)\n",
    "model_rc2=model_rc.predict(X_test)"
   ]
  },
  {
   "cell_type": "code",
   "execution_count": 137,
   "metadata": {
    "execution": {
     "iopub.execute_input": "2021-07-07T09:03:47.501494Z",
     "iopub.status.busy": "2021-07-07T09:03:47.501175Z",
     "iopub.status.idle": "2021-07-07T09:03:47.508042Z",
     "shell.execute_reply": "2021-07-07T09:03:47.506889Z",
     "shell.execute_reply.started": "2021-07-07T09:03:47.501464Z"
    }
   },
   "outputs": [
    {
     "data": {
      "text/plain": [
       "array([4, 1, 3, 1, 4, 3, 4, 2, 3, 2, 3, 2, 1, 4, 4, 1, 2, 3, 2, 4, 2, 1,\n",
       "       1, 4, 1, 4, 2, 1, 3, 4, 1, 3, 3, 2, 1, 1, 2, 3, 2, 2, 2, 4, 3, 2,\n",
       "       1, 4, 4, 2, 3, 3, 3, 4, 4, 4, 3, 1, 2, 1, 3, 3, 4, 1, 3, 2, 4, 4,\n",
       "       2, 3, 4, 2, 3, 4, 4, 3, 1, 3, 4, 2, 3, 3, 3, 1, 4, 2, 4, 3, 4, 1,\n",
       "       1, 3, 1, 4, 2, 3, 2, 4, 4, 4, 2, 2, 2, 1, 3, 3, 2, 1, 1, 4, 1, 1,\n",
       "       4, 1, 3, 4, 1, 3, 1, 3, 3, 3, 2, 1, 2, 4, 1, 3, 2, 1, 1, 3, 3, 4])"
      ]
     },
     "execution_count": 137,
     "metadata": {},
     "output_type": "execute_result"
    }
   ],
   "source": [
    "model_rc2"
   ]
  },
  {
   "cell_type": "markdown",
   "metadata": {},
   "source": [
    "## Accuracy Score"
   ]
  },
  {
   "cell_type": "code",
   "execution_count": 138,
   "metadata": {
    "execution": {
     "iopub.execute_input": "2021-07-07T09:03:47.509630Z",
     "iopub.status.busy": "2021-07-07T09:03:47.509330Z",
     "iopub.status.idle": "2021-07-07T09:03:47.520013Z",
     "shell.execute_reply": "2021-07-07T09:03:47.518924Z",
     "shell.execute_reply.started": "2021-07-07T09:03:47.509603Z"
    }
   },
   "outputs": [],
   "source": [
    "from sklearn.metrics import accuracy_score"
   ]
  },
  {
   "cell_type": "code",
   "execution_count": 140,
   "metadata": {
    "execution": {
     "iopub.execute_input": "2021-07-07T09:03:47.521707Z",
     "iopub.status.busy": "2021-07-07T09:03:47.521303Z",
     "iopub.status.idle": "2021-07-07T09:03:47.534558Z",
     "shell.execute_reply": "2021-07-07T09:03:47.533518Z",
     "shell.execute_reply.started": "2021-07-07T09:03:47.521673Z"
    }
   },
   "outputs": [
    {
     "data": {
      "text/plain": [
       "0.9090909090909091"
      ]
     },
     "execution_count": 140,
     "metadata": {},
     "output_type": "execute_result"
    }
   ],
   "source": [
    "accuracy_score(y_test,model_rc2)"
   ]
  },
  {
   "cell_type": "markdown",
   "metadata": {},
   "source": [
    "## Confusion Matrix"
   ]
  },
  {
   "cell_type": "code",
   "execution_count": 141,
   "metadata": {
    "execution": {
     "iopub.execute_input": "2021-07-07T09:06:18.830148Z",
     "iopub.status.busy": "2021-07-07T09:06:18.829692Z",
     "iopub.status.idle": "2021-07-07T09:06:18.835586Z",
     "shell.execute_reply": "2021-07-07T09:06:18.833951Z",
     "shell.execute_reply.started": "2021-07-07T09:06:18.830111Z"
    }
   },
   "outputs": [],
   "source": [
    "from sklearn.metrics import confusion_matrix"
   ]
  },
  {
   "cell_type": "code",
   "execution_count": 142,
   "metadata": {
    "execution": {
     "iopub.execute_input": "2021-07-07T09:06:35.853776Z",
     "iopub.status.busy": "2021-07-07T09:06:35.853348Z",
     "iopub.status.idle": "2021-07-07T09:06:35.864626Z",
     "shell.execute_reply": "2021-07-07T09:06:35.863479Z",
     "shell.execute_reply.started": "2021-07-07T09:06:35.853742Z"
    }
   },
   "outputs": [
    {
     "data": {
      "text/plain": [
       "array([[32,  0,  2,  1],\n",
       "       [ 0, 27,  5,  0],\n",
       "       [ 0,  1, 29,  1],\n",
       "       [ 0,  1,  1, 32]], dtype=int64)"
      ]
     },
     "execution_count": 142,
     "metadata": {},
     "output_type": "execute_result"
    }
   ],
   "source": [
    "confusion_matrix(y_test,model_rc2)"
   ]
  },
  {
   "cell_type": "markdown",
   "metadata": {},
   "source": [
    "## Classification report"
   ]
  },
  {
   "cell_type": "code",
   "execution_count": 143,
   "metadata": {
    "execution": {
     "iopub.execute_input": "2021-07-07T09:07:39.657866Z",
     "iopub.status.busy": "2021-07-07T09:07:39.657422Z",
     "iopub.status.idle": "2021-07-07T09:07:39.661730Z",
     "shell.execute_reply": "2021-07-07T09:07:39.661023Z",
     "shell.execute_reply.started": "2021-07-07T09:07:39.657813Z"
    }
   },
   "outputs": [],
   "source": [
    "from sklearn.metrics import classification_report"
   ]
  },
  {
   "cell_type": "code",
   "execution_count": 144,
   "metadata": {
    "execution": {
     "iopub.execute_input": "2021-07-07T09:08:19.887577Z",
     "iopub.status.busy": "2021-07-07T09:08:19.887233Z",
     "iopub.status.idle": "2021-07-07T09:08:19.899258Z",
     "shell.execute_reply": "2021-07-07T09:08:19.898329Z",
     "shell.execute_reply.started": "2021-07-07T09:08:19.887547Z"
    }
   },
   "outputs": [
    {
     "name": "stdout",
     "output_type": "stream",
     "text": [
      "              precision    recall  f1-score   support\n",
      "\n",
      "           1       1.00      0.91      0.96        35\n",
      "           2       0.93      0.84      0.89        32\n",
      "           3       0.78      0.94      0.85        31\n",
      "           4       0.94      0.94      0.94        34\n",
      "\n",
      "    accuracy                           0.91       132\n",
      "   macro avg       0.91      0.91      0.91       132\n",
      "weighted avg       0.92      0.91      0.91       132\n",
      "\n"
     ]
    }
   ],
   "source": [
    "print(classification_report(y_test,model_rc2))"
   ]
  },
  {
   "cell_type": "code",
   "execution_count": 145,
   "metadata": {},
   "outputs": [],
   "source": [
    "import pickle\n",
    "pickle_out=open(\"classification.pkl\",\"wb\")\n",
    "pickle.dump(model_rc,pickle_out)\n",
    "pickle_out.close()"
   ]
  },
  {
   "cell_type": "code",
   "execution_count": null,
   "metadata": {},
   "outputs": [],
   "source": []
  }
 ],
 "metadata": {
  "kernelspec": {
   "display_name": "Python 3",
   "language": "python",
   "name": "python3"
  },
  "language_info": {
   "codemirror_mode": {
    "name": "ipython",
    "version": 3
   },
   "file_extension": ".py",
   "mimetype": "text/x-python",
   "name": "python",
   "nbconvert_exporter": "python",
   "pygments_lexer": "ipython3",
   "version": "3.8.3"
  }
 },
 "nbformat": 4,
 "nbformat_minor": 4
}
